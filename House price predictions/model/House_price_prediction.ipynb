{
 "cells": [
  {
   "cell_type": "code",
   "execution_count": 7,
   "id": "d539d5f2-778a-4f7b-bf25-b3f9c4333d52",
   "metadata": {},
   "outputs": [],
   "source": [
    "import pandas as pd\n",
    "import numpy as np\n",
    "import matplotlib\n",
    "from matplotlib import pyplot as plt\n"
   ]
  },
  {
   "cell_type": "code",
   "execution_count": 21,
   "id": "b62d3199-931a-49b4-b196-cc9fa9655ace",
   "metadata": {},
   "outputs": [],
   "source": [
    "data = pd.read_csv(\"house_prices.csv\")"
   ]
  },
  {
   "cell_type": "code",
   "execution_count": 27,
   "id": "94c2e96b-ad4a-4a50-95c6-af4eb5f573e8",
   "metadata": {},
   "outputs": [
    {
     "data": {
      "text/html": [
       "<div>\n",
       "<style scoped>\n",
       "    .dataframe tbody tr th:only-of-type {\n",
       "        vertical-align: middle;\n",
       "    }\n",
       "\n",
       "    .dataframe tbody tr th {\n",
       "        vertical-align: top;\n",
       "    }\n",
       "\n",
       "    .dataframe thead th {\n",
       "        text-align: right;\n",
       "    }\n",
       "</style>\n",
       "<table border=\"1\" class=\"dataframe\">\n",
       "  <thead>\n",
       "    <tr style=\"text-align: right;\">\n",
       "      <th></th>\n",
       "      <th>Unnamed: 0</th>\n",
       "      <th>property_type</th>\n",
       "      <th>price</th>\n",
       "      <th>location</th>\n",
       "      <th>city</th>\n",
       "      <th>baths</th>\n",
       "      <th>purpose</th>\n",
       "      <th>bedrooms</th>\n",
       "      <th>Area_in_Marla</th>\n",
       "    </tr>\n",
       "  </thead>\n",
       "  <tbody>\n",
       "    <tr>\n",
       "      <th>0</th>\n",
       "      <td>0</td>\n",
       "      <td>Flat</td>\n",
       "      <td>10000000</td>\n",
       "      <td>G-10</td>\n",
       "      <td>Islamabad</td>\n",
       "      <td>2</td>\n",
       "      <td>For Sale</td>\n",
       "      <td>2</td>\n",
       "      <td>4.0</td>\n",
       "    </tr>\n",
       "    <tr>\n",
       "      <th>1</th>\n",
       "      <td>1</td>\n",
       "      <td>Flat</td>\n",
       "      <td>6900000</td>\n",
       "      <td>E-11</td>\n",
       "      <td>Islamabad</td>\n",
       "      <td>3</td>\n",
       "      <td>For Sale</td>\n",
       "      <td>3</td>\n",
       "      <td>5.6</td>\n",
       "    </tr>\n",
       "    <tr>\n",
       "      <th>2</th>\n",
       "      <td>2</td>\n",
       "      <td>House</td>\n",
       "      <td>16500000</td>\n",
       "      <td>G-15</td>\n",
       "      <td>Islamabad</td>\n",
       "      <td>6</td>\n",
       "      <td>For Sale</td>\n",
       "      <td>5</td>\n",
       "      <td>8.0</td>\n",
       "    </tr>\n",
       "    <tr>\n",
       "      <th>3</th>\n",
       "      <td>3</td>\n",
       "      <td>House</td>\n",
       "      <td>43500000</td>\n",
       "      <td>Bani Gala</td>\n",
       "      <td>Islamabad</td>\n",
       "      <td>4</td>\n",
       "      <td>For Sale</td>\n",
       "      <td>4</td>\n",
       "      <td>40.0</td>\n",
       "    </tr>\n",
       "    <tr>\n",
       "      <th>4</th>\n",
       "      <td>4</td>\n",
       "      <td>House</td>\n",
       "      <td>7000000</td>\n",
       "      <td>DHA Defence</td>\n",
       "      <td>Islamabad</td>\n",
       "      <td>3</td>\n",
       "      <td>For Sale</td>\n",
       "      <td>3</td>\n",
       "      <td>8.0</td>\n",
       "    </tr>\n",
       "  </tbody>\n",
       "</table>\n",
       "</div>"
      ],
      "text/plain": [
       "   Unnamed: 0 property_type     price     location       city  baths  \\\n",
       "0           0          Flat  10000000         G-10  Islamabad      2   \n",
       "1           1          Flat   6900000         E-11  Islamabad      3   \n",
       "2           2         House  16500000         G-15  Islamabad      6   \n",
       "3           3         House  43500000    Bani Gala  Islamabad      4   \n",
       "4           4         House   7000000  DHA Defence  Islamabad      3   \n",
       "\n",
       "    purpose  bedrooms  Area_in_Marla  \n",
       "0  For Sale         2            4.0  \n",
       "1  For Sale         3            5.6  \n",
       "2  For Sale         5            8.0  \n",
       "3  For Sale         4           40.0  \n",
       "4  For Sale         3            8.0  "
      ]
     },
     "execution_count": 27,
     "metadata": {},
     "output_type": "execute_result"
    }
   ],
   "source": [
    "data.head()"
   ]
  },
  {
   "cell_type": "code",
   "execution_count": 29,
   "id": "f0898fdc-7cc3-4b9b-84de-5fb1157b8041",
   "metadata": {},
   "outputs": [
    {
     "data": {
      "text/plain": [
       "(99499, 9)"
      ]
     },
     "execution_count": 29,
     "metadata": {},
     "output_type": "execute_result"
    }
   ],
   "source": [
    "data.shape"
   ]
  },
  {
   "cell_type": "code",
   "execution_count": 33,
   "id": "6c1b5994-b86a-41bb-af4a-a3aac6b7f829",
   "metadata": {},
   "outputs": [
    {
     "data": {
      "text/plain": [
       "property_type\n",
       "Farm House          88\n",
       "Flat             26658\n",
       "House            58169\n",
       "Lower Portion     5549\n",
       "Penthouse          255\n",
       "Room               241\n",
       "Upper Portion     8539\n",
       "Name: property_type, dtype: int64"
      ]
     },
     "execution_count": 33,
     "metadata": {},
     "output_type": "execute_result"
    }
   ],
   "source": [
    "data.groupby('property_type')['property_type'].agg('count')"
   ]
  },
  {
   "cell_type": "code",
   "execution_count": 35,
   "id": "1aeb96e1-7087-407b-a067-fc188d1252ae",
   "metadata": {},
   "outputs": [
    {
     "data": {
      "text/plain": [
       "city\n",
       "Faisalabad     2231\n",
       "Islamabad     22243\n",
       "Karachi       37066\n",
       "Lahore        26221\n",
       "Rawalpindi    11738\n",
       "Name: city, dtype: int64"
      ]
     },
     "execution_count": 35,
     "metadata": {},
     "output_type": "execute_result"
    }
   ],
   "source": [
    "data.groupby('city')['city'].agg('count')"
   ]
  },
  {
   "cell_type": "code",
   "execution_count": 37,
   "id": "67ab2bad-8b9c-4843-9908-a81d963266a4",
   "metadata": {},
   "outputs": [
    {
     "data": {
      "text/plain": [
       "purpose\n",
       "For Rent    28552\n",
       "For Sale    70947\n",
       "Name: purpose, dtype: int64"
      ]
     },
     "execution_count": 37,
     "metadata": {},
     "output_type": "execute_result"
    }
   ],
   "source": [
    "data.groupby('purpose')['purpose'].agg('count')"
   ]
  },
  {
   "cell_type": "code",
   "execution_count": 41,
   "id": "bd640cd0-f1d5-4d95-aeee-1d4e675014c7",
   "metadata": {},
   "outputs": [],
   "source": [
    "data2 = data.drop(['Unnamed: 0','purpose','location'],axis= 'columns')"
   ]
  },
  {
   "cell_type": "code",
   "execution_count": 43,
   "id": "03328732-7fc4-4bd5-afb4-2777797dcb37",
   "metadata": {},
   "outputs": [
    {
     "data": {
      "text/html": [
       "<div>\n",
       "<style scoped>\n",
       "    .dataframe tbody tr th:only-of-type {\n",
       "        vertical-align: middle;\n",
       "    }\n",
       "\n",
       "    .dataframe tbody tr th {\n",
       "        vertical-align: top;\n",
       "    }\n",
       "\n",
       "    .dataframe thead th {\n",
       "        text-align: right;\n",
       "    }\n",
       "</style>\n",
       "<table border=\"1\" class=\"dataframe\">\n",
       "  <thead>\n",
       "    <tr style=\"text-align: right;\">\n",
       "      <th></th>\n",
       "      <th>property_type</th>\n",
       "      <th>price</th>\n",
       "      <th>city</th>\n",
       "      <th>baths</th>\n",
       "      <th>bedrooms</th>\n",
       "      <th>Area_in_Marla</th>\n",
       "    </tr>\n",
       "  </thead>\n",
       "  <tbody>\n",
       "    <tr>\n",
       "      <th>0</th>\n",
       "      <td>Flat</td>\n",
       "      <td>10000000</td>\n",
       "      <td>Islamabad</td>\n",
       "      <td>2</td>\n",
       "      <td>2</td>\n",
       "      <td>4.0</td>\n",
       "    </tr>\n",
       "    <tr>\n",
       "      <th>1</th>\n",
       "      <td>Flat</td>\n",
       "      <td>6900000</td>\n",
       "      <td>Islamabad</td>\n",
       "      <td>3</td>\n",
       "      <td>3</td>\n",
       "      <td>5.6</td>\n",
       "    </tr>\n",
       "    <tr>\n",
       "      <th>2</th>\n",
       "      <td>House</td>\n",
       "      <td>16500000</td>\n",
       "      <td>Islamabad</td>\n",
       "      <td>6</td>\n",
       "      <td>5</td>\n",
       "      <td>8.0</td>\n",
       "    </tr>\n",
       "    <tr>\n",
       "      <th>3</th>\n",
       "      <td>House</td>\n",
       "      <td>43500000</td>\n",
       "      <td>Islamabad</td>\n",
       "      <td>4</td>\n",
       "      <td>4</td>\n",
       "      <td>40.0</td>\n",
       "    </tr>\n",
       "    <tr>\n",
       "      <th>4</th>\n",
       "      <td>House</td>\n",
       "      <td>7000000</td>\n",
       "      <td>Islamabad</td>\n",
       "      <td>3</td>\n",
       "      <td>3</td>\n",
       "      <td>8.0</td>\n",
       "    </tr>\n",
       "  </tbody>\n",
       "</table>\n",
       "</div>"
      ],
      "text/plain": [
       "  property_type     price       city  baths  bedrooms  Area_in_Marla\n",
       "0          Flat  10000000  Islamabad      2         2            4.0\n",
       "1          Flat   6900000  Islamabad      3         3            5.6\n",
       "2         House  16500000  Islamabad      6         5            8.0\n",
       "3         House  43500000  Islamabad      4         4           40.0\n",
       "4         House   7000000  Islamabad      3         3            8.0"
      ]
     },
     "execution_count": 43,
     "metadata": {},
     "output_type": "execute_result"
    }
   ],
   "source": [
    "data2.head()"
   ]
  },
  {
   "cell_type": "code",
   "execution_count": 45,
   "id": "b3801d91-02bd-46be-abb1-be4efc3b910c",
   "metadata": {},
   "outputs": [
    {
     "data": {
      "text/plain": [
       "property_type    0\n",
       "price            0\n",
       "city             0\n",
       "baths            0\n",
       "bedrooms         0\n",
       "Area_in_Marla    0\n",
       "dtype: int64"
      ]
     },
     "execution_count": 45,
     "metadata": {},
     "output_type": "execute_result"
    }
   ],
   "source": [
    "data2.isnull().sum()"
   ]
  },
  {
   "cell_type": "code",
   "execution_count": 47,
   "id": "b3e5fd15-5616-4e29-9240-a3e04707db75",
   "metadata": {},
   "outputs": [
    {
     "data": {
      "text/plain": [
       "array([2, 3, 5, 4, 1, 6, 0], dtype=int64)"
      ]
     },
     "execution_count": 47,
     "metadata": {},
     "output_type": "execute_result"
    }
   ],
   "source": [
    "data2['bedrooms'].unique()"
   ]
  },
  {
   "cell_type": "code",
   "execution_count": 49,
   "id": "6c6a6ae0-5179-4360-bdc5-73c36d7e1ae8",
   "metadata": {},
   "outputs": [
    {
     "data": {
      "text/plain": [
       "array([2, 3, 6, 4, 5, 1, 7], dtype=int64)"
      ]
     },
     "execution_count": 49,
     "metadata": {},
     "output_type": "execute_result"
    }
   ],
   "source": [
    "data2['baths'].unique()"
   ]
  },
  {
   "cell_type": "code",
   "execution_count": 69,
   "id": "7232aa97-06e6-4786-a64b-d883a39eb0c1",
   "metadata": {},
   "outputs": [],
   "source": [
    "filtered_data = data2.query('bedrooms > 5 and baths > 5')\n"
   ]
  },
  {
   "cell_type": "code",
   "execution_count": 73,
   "id": "7619a4ce-52e4-44eb-b30b-08fe93383c6b",
   "metadata": {},
   "outputs": [
    {
     "data": {
      "text/plain": [
       "(5172, 6)"
      ]
     },
     "execution_count": 73,
     "metadata": {},
     "output_type": "execute_result"
    }
   ],
   "source": [
    "filtered_data.shape"
   ]
  },
  {
   "cell_type": "code",
   "execution_count": 79,
   "id": "d70bdd3c-d148-4eca-b95a-181371638b00",
   "metadata": {},
   "outputs": [
    {
     "data": {
      "text/plain": [
       "(13482, 6)"
      ]
     },
     "execution_count": 79,
     "metadata": {},
     "output_type": "execute_result"
    }
   ],
   "source": [
    "data2.query('bedrooms>5'and 'baths>5').shape"
   ]
  },
  {
   "cell_type": "code",
   "execution_count": 81,
   "id": "957e3491-d72f-4cbf-8398-5d6cefb7e0b4",
   "metadata": {},
   "outputs": [
    {
     "data": {
      "text/plain": [
       "array([  4. ,   5.6,   8. ,  40. ,   6.2,  20. ,   7.1,  10. ,   3.1,\n",
       "         5. ,   4.7,  12. ,   4.3,   6.7,   5.3,  24. ,  13.3,  16. ,\n",
       "         9.3,  11. ,   7.5,   3. ,   2.5,   6. ,   9.7,  18. ,   7. ,\n",
       "         3.8,   5.5,  22. ,   2.4,   4.4,   2.2,   8.9,   3.2,   9.6,\n",
       "         9.8,  10.2,  11.4,   4.8,   7.6,  13.2,   5.2,   1.3,   6.1,\n",
       "         9.1,  14. ,  11.5,   7.8,  30. ,   3.7,   4.2,   5.8,  26. ,\n",
       "        10.1,  17. ,   2. ,   8.2,   1.5,  10.7,   6.9,   6.6,   2.9,\n",
       "         3.6,   4.1,  16.4,  13. ,  12.2,   5.1,   9. ,   3.4,  10.3,\n",
       "         4.9,  14.7,  32. ,   7.3,   8.1,   2.8,   3.3,  36. ,  12.5,\n",
       "         1.9,  11.6,  76. ,  14.2,   6.4,   5.7,   1.8,  60. ,  12.4,\n",
       "        11.8,   3.5,  38. ,  10.9,   2.7,   6.5,  15. ,   5.9,   8.7,\n",
       "        10.4,  15.9,   6.3,   8.6,  19. ,   4.5,   5.4,   8.3,  17.3,\n",
       "         1.6,   2.6,   1.7,   7.9,  11.1,   8.4,   4.6,   3.9,  11.2,\n",
       "        13.7,  10.8,   0.4,   7.2,  11.7,  10.5,  17.8,  10.6,  15.6,\n",
       "         8.5,  13.4,   7.4,  12.1,  18.7,   9.5,   2.1,  28. ,   1. ,\n",
       "         0.5,   8.8,  50. ,  48. ,  80. ,   1.2,  14.4,  17.7,  15.5,\n",
       "       120. ,   2.3,   9.4,   1.4,  12.3,   9.9, 100. ,   1.1,  12.8,\n",
       "        70. ,   0.9,  88. ,  17.2,  15.4,   6.8,  14.6,  18.2,   0.6,\n",
       "        11.3,  16.6,  46. ,   9.2,   7.7,  64. ,  13.8, 160. ,  17.5,\n",
       "        17.6,  19.1,  18.6,  12.7,  34. , 150. ,  15.1, 108. ,  42. ,\n",
       "        12.9,  52. ,  66. ,  44. ,  19.8,  15.2,  16.7,  13.6,  54. ,\n",
       "        14.5,  72. , 194. ,  13.1,  16.9,  11.9,  12.6,  18.8,  17.1,\n",
       "         0. ,  13.5,  14.1,  14.8,  15.7,   0.8,  86. ,  18.4, 110. ,\n",
       "       152. ,  13.9,  19.2, 180. ,  19.5,  19.4,  84. , 176. ,  16.8,\n",
       "        16.5,  14.9,  14.3,   0.7,  18.5,   0.2,  19.3,  16.2,  15.3,\n",
       "       140. ,  19.6,  68. , 146. ,  16.3,  62. , 128. ,  92. , 142. ,\n",
       "        96. , 172. ,  58. ,  56. , 122. ,  74. ])"
      ]
     },
     "execution_count": 81,
     "metadata": {},
     "output_type": "execute_result"
    }
   ],
   "source": [
    "data2.Area_in_Marla.unique()"
   ]
  },
  {
   "cell_type": "markdown",
   "id": "494fa532-e3e9-4bb7-aaca-a2b2a9504390",
   "metadata": {},
   "source": [
    "check is there any no float numbers or number ranges"
   ]
  },
  {
   "cell_type": "code",
   "execution_count": 83,
   "id": "83ea7bd3-3c91-4215-8320-83bac2fd4a2e",
   "metadata": {},
   "outputs": [],
   "source": [
    "def is_float(x):\n",
    "    try:\n",
    "        float(x)\n",
    "    except:\n",
    "        return False\n",
    "    return True"
   ]
  },
  {
   "cell_type": "code",
   "execution_count": 85,
   "id": "b1f37fb0-7838-4d00-853f-6a63a705b13d",
   "metadata": {},
   "outputs": [
    {
     "data": {
      "text/html": [
       "<div>\n",
       "<style scoped>\n",
       "    .dataframe tbody tr th:only-of-type {\n",
       "        vertical-align: middle;\n",
       "    }\n",
       "\n",
       "    .dataframe tbody tr th {\n",
       "        vertical-align: top;\n",
       "    }\n",
       "\n",
       "    .dataframe thead th {\n",
       "        text-align: right;\n",
       "    }\n",
       "</style>\n",
       "<table border=\"1\" class=\"dataframe\">\n",
       "  <thead>\n",
       "    <tr style=\"text-align: right;\">\n",
       "      <th></th>\n",
       "      <th>property_type</th>\n",
       "      <th>price</th>\n",
       "      <th>city</th>\n",
       "      <th>baths</th>\n",
       "      <th>bedrooms</th>\n",
       "      <th>Area_in_Marla</th>\n",
       "    </tr>\n",
       "  </thead>\n",
       "  <tbody>\n",
       "  </tbody>\n",
       "</table>\n",
       "</div>"
      ],
      "text/plain": [
       "Empty DataFrame\n",
       "Columns: [property_type, price, city, baths, bedrooms, Area_in_Marla]\n",
       "Index: []"
      ]
     },
     "execution_count": 85,
     "metadata": {},
     "output_type": "execute_result"
    }
   ],
   "source": [
    "data2[~data2['Area_in_Marla'].apply(is_float)].head()"
   ]
  },
  {
   "cell_type": "markdown",
   "id": "b2ef2e64-69ac-4077-8790-dba638acf131",
   "metadata": {},
   "source": [
    "Feature engineering and dimensioly reduction"
   ]
  },
  {
   "cell_type": "code",
   "execution_count": 163,
   "id": "756bb0d6-ec11-44bc-a5d7-2c92d0ac4845",
   "metadata": {},
   "outputs": [
    {
     "data": {
      "text/html": [
       "<div>\n",
       "<style scoped>\n",
       "    .dataframe tbody tr th:only-of-type {\n",
       "        vertical-align: middle;\n",
       "    }\n",
       "\n",
       "    .dataframe tbody tr th {\n",
       "        vertical-align: top;\n",
       "    }\n",
       "\n",
       "    .dataframe thead th {\n",
       "        text-align: right;\n",
       "    }\n",
       "</style>\n",
       "<table border=\"1\" class=\"dataframe\">\n",
       "  <thead>\n",
       "    <tr style=\"text-align: right;\">\n",
       "      <th></th>\n",
       "      <th>property_type</th>\n",
       "      <th>price</th>\n",
       "      <th>city</th>\n",
       "      <th>baths</th>\n",
       "      <th>bedrooms</th>\n",
       "      <th>Area_in_Marla</th>\n",
       "      <th>price_per_area</th>\n",
       "    </tr>\n",
       "  </thead>\n",
       "  <tbody>\n",
       "    <tr>\n",
       "      <th>0</th>\n",
       "      <td>Flat</td>\n",
       "      <td>10000000</td>\n",
       "      <td>Islamabad</td>\n",
       "      <td>2</td>\n",
       "      <td>2</td>\n",
       "      <td>4.0</td>\n",
       "      <td>2.500000e+06</td>\n",
       "    </tr>\n",
       "    <tr>\n",
       "      <th>1</th>\n",
       "      <td>Flat</td>\n",
       "      <td>6900000</td>\n",
       "      <td>Islamabad</td>\n",
       "      <td>3</td>\n",
       "      <td>3</td>\n",
       "      <td>5.6</td>\n",
       "      <td>1.232143e+06</td>\n",
       "    </tr>\n",
       "    <tr>\n",
       "      <th>2</th>\n",
       "      <td>House</td>\n",
       "      <td>16500000</td>\n",
       "      <td>Islamabad</td>\n",
       "      <td>6</td>\n",
       "      <td>5</td>\n",
       "      <td>8.0</td>\n",
       "      <td>2.062500e+06</td>\n",
       "    </tr>\n",
       "    <tr>\n",
       "      <th>3</th>\n",
       "      <td>House</td>\n",
       "      <td>43500000</td>\n",
       "      <td>Islamabad</td>\n",
       "      <td>4</td>\n",
       "      <td>4</td>\n",
       "      <td>40.0</td>\n",
       "      <td>1.087500e+06</td>\n",
       "    </tr>\n",
       "    <tr>\n",
       "      <th>4</th>\n",
       "      <td>House</td>\n",
       "      <td>7000000</td>\n",
       "      <td>Islamabad</td>\n",
       "      <td>3</td>\n",
       "      <td>3</td>\n",
       "      <td>8.0</td>\n",
       "      <td>8.750000e+05</td>\n",
       "    </tr>\n",
       "  </tbody>\n",
       "</table>\n",
       "</div>"
      ],
      "text/plain": [
       "  property_type     price       city  baths  bedrooms  Area_in_Marla  \\\n",
       "0          Flat  10000000  Islamabad      2         2            4.0   \n",
       "1          Flat   6900000  Islamabad      3         3            5.6   \n",
       "2         House  16500000  Islamabad      6         5            8.0   \n",
       "3         House  43500000  Islamabad      4         4           40.0   \n",
       "4         House   7000000  Islamabad      3         3            8.0   \n",
       "\n",
       "   price_per_area  \n",
       "0    2.500000e+06  \n",
       "1    1.232143e+06  \n",
       "2    2.062500e+06  \n",
       "3    1.087500e+06  \n",
       "4    8.750000e+05  "
      ]
     },
     "execution_count": 163,
     "metadata": {},
     "output_type": "execute_result"
    }
   ],
   "source": [
    "data3 = data2.copy()\n",
    "data3['price_per_area'] = data3['price']/data3['Area_in_Marla']\n",
    "data3.head()"
   ]
  },
  {
   "cell_type": "code",
   "execution_count": 165,
   "id": "fb5bf83c-a182-410b-ae6b-1ba69934d84f",
   "metadata": {},
   "outputs": [
    {
     "data": {
      "text/plain": [
       "5"
      ]
     },
     "execution_count": 165,
     "metadata": {},
     "output_type": "execute_result"
    }
   ],
   "source": [
    "len(data3.city.unique())"
   ]
  },
  {
   "cell_type": "code",
   "execution_count": 167,
   "id": "6d5e3233-8241-40b2-b92c-4e8bf64fa415",
   "metadata": {},
   "outputs": [
    {
     "data": {
      "text/plain": [
       "7"
      ]
     },
     "execution_count": 167,
     "metadata": {},
     "output_type": "execute_result"
    }
   ],
   "source": [
    "len(data3.property_type.unique())"
   ]
  },
  {
   "cell_type": "code",
   "execution_count": 169,
   "id": "3e8d0e46-d4a2-44a1-810d-a23c361f3bc6",
   "metadata": {},
   "outputs": [
    {
     "data": {
      "text/html": [
       "<div>\n",
       "<style scoped>\n",
       "    .dataframe tbody tr th:only-of-type {\n",
       "        vertical-align: middle;\n",
       "    }\n",
       "\n",
       "    .dataframe tbody tr th {\n",
       "        vertical-align: top;\n",
       "    }\n",
       "\n",
       "    .dataframe thead th {\n",
       "        text-align: right;\n",
       "    }\n",
       "</style>\n",
       "<table border=\"1\" class=\"dataframe\">\n",
       "  <thead>\n",
       "    <tr style=\"text-align: right;\">\n",
       "      <th></th>\n",
       "      <th>property_type</th>\n",
       "      <th>price</th>\n",
       "      <th>city</th>\n",
       "      <th>baths</th>\n",
       "      <th>bedrooms</th>\n",
       "      <th>Area_in_Marla</th>\n",
       "      <th>price_per_area</th>\n",
       "    </tr>\n",
       "  </thead>\n",
       "  <tbody>\n",
       "    <tr>\n",
       "      <th>3</th>\n",
       "      <td>House</td>\n",
       "      <td>43500000</td>\n",
       "      <td>Islamabad</td>\n",
       "      <td>4</td>\n",
       "      <td>4</td>\n",
       "      <td>40.0</td>\n",
       "      <td>1087500.0</td>\n",
       "    </tr>\n",
       "    <tr>\n",
       "      <th>23</th>\n",
       "      <td>House</td>\n",
       "      <td>600000</td>\n",
       "      <td>Islamabad</td>\n",
       "      <td>6</td>\n",
       "      <td>6</td>\n",
       "      <td>40.0</td>\n",
       "      <td>15000.0</td>\n",
       "    </tr>\n",
       "    <tr>\n",
       "      <th>25</th>\n",
       "      <td>House</td>\n",
       "      <td>45000</td>\n",
       "      <td>Islamabad</td>\n",
       "      <td>5</td>\n",
       "      <td>3</td>\n",
       "      <td>24.0</td>\n",
       "      <td>1875.0</td>\n",
       "    </tr>\n",
       "    <tr>\n",
       "      <th>97</th>\n",
       "      <td>Upper Portion</td>\n",
       "      <td>50000</td>\n",
       "      <td>Rawalpindi</td>\n",
       "      <td>3</td>\n",
       "      <td>3</td>\n",
       "      <td>20.0</td>\n",
       "      <td>2500.0</td>\n",
       "    </tr>\n",
       "    <tr>\n",
       "      <th>101</th>\n",
       "      <td>Upper Portion</td>\n",
       "      <td>48000</td>\n",
       "      <td>Rawalpindi</td>\n",
       "      <td>4</td>\n",
       "      <td>3</td>\n",
       "      <td>20.0</td>\n",
       "      <td>2400.0</td>\n",
       "    </tr>\n",
       "    <tr>\n",
       "      <th>...</th>\n",
       "      <td>...</td>\n",
       "      <td>...</td>\n",
       "      <td>...</td>\n",
       "      <td>...</td>\n",
       "      <td>...</td>\n",
       "      <td>...</td>\n",
       "      <td>...</td>\n",
       "    </tr>\n",
       "    <tr>\n",
       "      <th>99432</th>\n",
       "      <td>Upper Portion</td>\n",
       "      <td>55000</td>\n",
       "      <td>Islamabad</td>\n",
       "      <td>3</td>\n",
       "      <td>3</td>\n",
       "      <td>20.0</td>\n",
       "      <td>2750.0</td>\n",
       "    </tr>\n",
       "    <tr>\n",
       "      <th>99433</th>\n",
       "      <td>Upper Portion</td>\n",
       "      <td>50000</td>\n",
       "      <td>Islamabad</td>\n",
       "      <td>3</td>\n",
       "      <td>3</td>\n",
       "      <td>20.0</td>\n",
       "      <td>2500.0</td>\n",
       "    </tr>\n",
       "    <tr>\n",
       "      <th>99434</th>\n",
       "      <td>Upper Portion</td>\n",
       "      <td>55000</td>\n",
       "      <td>Islamabad</td>\n",
       "      <td>3</td>\n",
       "      <td>3</td>\n",
       "      <td>20.0</td>\n",
       "      <td>2750.0</td>\n",
       "    </tr>\n",
       "    <tr>\n",
       "      <th>99436</th>\n",
       "      <td>Upper Portion</td>\n",
       "      <td>40000</td>\n",
       "      <td>Islamabad</td>\n",
       "      <td>3</td>\n",
       "      <td>3</td>\n",
       "      <td>20.0</td>\n",
       "      <td>2000.0</td>\n",
       "    </tr>\n",
       "    <tr>\n",
       "      <th>99442</th>\n",
       "      <td>House</td>\n",
       "      <td>100000</td>\n",
       "      <td>Islamabad</td>\n",
       "      <td>7</td>\n",
       "      <td>5</td>\n",
       "      <td>64.0</td>\n",
       "      <td>1562.5</td>\n",
       "    </tr>\n",
       "  </tbody>\n",
       "</table>\n",
       "<p>5401 rows × 7 columns</p>\n",
       "</div>"
      ],
      "text/plain": [
       "       property_type     price        city  baths  bedrooms  Area_in_Marla  \\\n",
       "3              House  43500000   Islamabad      4         4           40.0   \n",
       "23             House    600000   Islamabad      6         6           40.0   \n",
       "25             House     45000   Islamabad      5         3           24.0   \n",
       "97     Upper Portion     50000  Rawalpindi      3         3           20.0   \n",
       "101    Upper Portion     48000  Rawalpindi      4         3           20.0   \n",
       "...              ...       ...         ...    ...       ...            ...   \n",
       "99432  Upper Portion     55000   Islamabad      3         3           20.0   \n",
       "99433  Upper Portion     50000   Islamabad      3         3           20.0   \n",
       "99434  Upper Portion     55000   Islamabad      3         3           20.0   \n",
       "99436  Upper Portion     40000   Islamabad      3         3           20.0   \n",
       "99442          House    100000   Islamabad      7         5           64.0   \n",
       "\n",
       "       price_per_area  \n",
       "3           1087500.0  \n",
       "23            15000.0  \n",
       "25             1875.0  \n",
       "97             2500.0  \n",
       "101            2400.0  \n",
       "...               ...  \n",
       "99432          2750.0  \n",
       "99433          2500.0  \n",
       "99434          2750.0  \n",
       "99436          2000.0  \n",
       "99442          1562.5  \n",
       "\n",
       "[5401 rows x 7 columns]"
      ]
     },
     "execution_count": 169,
     "metadata": {},
     "output_type": "execute_result"
    }
   ],
   "source": [
    "data3[data3.Area_in_Marla/data3.bedrooms>6]"
   ]
  },
  {
   "cell_type": "code",
   "execution_count": 171,
   "id": "42738ac4-a4ad-435d-9ad9-7dc89fe3390f",
   "metadata": {},
   "outputs": [
    {
     "data": {
      "text/plain": [
       "(99499, 7)"
      ]
     },
     "execution_count": 171,
     "metadata": {},
     "output_type": "execute_result"
    }
   ],
   "source": [
    "data3.shape"
   ]
  },
  {
   "cell_type": "code",
   "execution_count": 145,
   "id": "d7f77ed0-9ba0-4a4d-8d78-2ac0cc96d897",
   "metadata": {},
   "outputs": [
    {
     "data": {
      "image/png": "[encoded data removed]",
      "text/plain": [
       "<Figure size 1000x600 with 1 Axes>"
      ]
     },
     "metadata": {},
     "output_type": "display_data"
    }
   ],
   "source": [
    "# Create a scatter plot\n",
    "plt.figure(figsize=(10, 6))\n",
    "plt.scatter(data3['bedrooms'], data3['Area_in_Marla']/data3['bedrooms'], color='blue', alpha=0.5)\n",
    "plt.title('Scatter Plot of Area in Marla vs Bedrooms')\n",
    "plt.ylabel('Area in Marla')\n",
    "plt.xlabel('Number of Bedrooms')\n",
    "plt.grid(True)\n",
    "plt.show()"
   ]
  },
  {
   "cell_type": "code",
   "execution_count": 173,
   "id": "ab0583f0-1aca-4d15-a6a7-7e8672a58072",
   "metadata": {},
   "outputs": [],
   "source": [
    "data4 = data3[~(data3.Area_in_Marla/data3.bedrooms>30)]"
   ]
  },
  {
   "cell_type": "code",
   "execution_count": 175,
   "id": "f7c2f3b7-14b0-47de-beba-d51c98646f87",
   "metadata": {},
   "outputs": [
    {
     "data": {
      "text/plain": [
       "(99143, 7)"
      ]
     },
     "execution_count": 175,
     "metadata": {},
     "output_type": "execute_result"
    }
   ],
   "source": [
    "data4.shape"
   ]
  },
  {
   "cell_type": "code",
   "execution_count": 177,
   "id": "647bd5e6-9c62-4143-ab8c-666a8277e2b7",
   "metadata": {},
   "outputs": [
    {
     "data": {
      "text/plain": [
       "count      99143.0\n",
       "mean           inf\n",
       "std            NaN\n",
       "min          400.0\n",
       "25%        11750.0\n",
       "50%      1500000.0\n",
       "75%      2180000.0\n",
       "max            inf\n",
       "Name: price_per_area, dtype: float64"
      ]
     },
     "execution_count": 177,
     "metadata": {},
     "output_type": "execute_result"
    }
   ],
   "source": [
    "data4.price_per_area.describe()\n"
   ]
  },
  {
   "cell_type": "code",
   "execution_count": 181,
   "id": "0de73056-4991-4d0c-a6aa-397ad0696e54",
   "metadata": {},
   "outputs": [],
   "source": [
    "data5 = data4[~(data4.Area_in_Marla==0)]"
   ]
  },
  {
   "cell_type": "code",
   "execution_count": 183,
   "id": "b7c4dd0b-8b66-4f3b-a7c8-8cafdf905694",
   "metadata": {},
   "outputs": [
    {
     "data": {
      "text/plain": [
       "(99133, 7)"
      ]
     },
     "execution_count": 183,
     "metadata": {},
     "output_type": "execute_result"
    }
   ],
   "source": [
    "data5.shape"
   ]
  },
  {
   "cell_type": "code",
   "execution_count": 189,
   "id": "1de2d7e1-b205-4b86-8572-28c160dc33b0",
   "metadata": {},
   "outputs": [
    {
     "data": {
      "text/plain": [
       "count    9.913300e+04\n",
       "mean     1.439156e+06\n",
       "std      1.266167e+06\n",
       "min      4.000000e+02\n",
       "25%      1.175000e+04\n",
       "50%      1.500000e+06\n",
       "75%      2.180000e+06\n",
       "max      4.250000e+07\n",
       "Name: price_per_area, dtype: float64"
      ]
     },
     "execution_count": 189,
     "metadata": {},
     "output_type": "execute_result"
    }
   ],
   "source": [
    "data5.price_per_area.describe()"
   ]
  },
  {
   "cell_type": "code",
   "execution_count": 191,
   "id": "5902c98c-6eef-49f8-9973-bd4b3d11e739",
   "metadata": {},
   "outputs": [
    {
     "data": {
      "text/plain": [
       "(12258, 7)"
      ]
     },
     "execution_count": 191,
     "metadata": {},
     "output_type": "execute_result"
    }
   ],
   "source": [
    "def remove_pps_outliers(df):\n",
    "    df_out = pd.DataFrame()\n",
    "    for key,subdf in df.groupby('city'):\n",
    "        m = np.mean(subdf.price_per_area)\n",
    "        st = np.std(subdf.price_per_area)\n",
    "        reduced_df = subdf[(subdf.price_per_area>(m-st)) & (subdf.price_per_area>(m+st))]\n",
    "        df_out = pd.concat([df_out,reduced_df],ignore_index=True)\n",
    "    return df_out\n",
    "\n",
    "data6 = remove_pps_outliers(data5)\n",
    "data6.shape"
   ]
  },
  {
   "cell_type": "code",
   "execution_count": 205,
   "id": "dd3cbf80-41e0-41ac-8d88-b450037992b1",
   "metadata": {},
   "outputs": [
    {
     "data": {
      "text/plain": [
       "array([4, 5, 6, 3, 2, 1], dtype=int64)"
      ]
     },
     "execution_count": 205,
     "metadata": {},
     "output_type": "execute_result"
    }
   ],
   "source": [
    "data6.bedrooms.unique()"
   ]
  },
  {
   "cell_type": "code",
   "execution_count": 207,
   "id": "ffe7b985-64ec-4b1e-8b5b-96df332fb0dd",
   "metadata": {},
   "outputs": [
    {
     "data": {
      "text/html": [
       "<div>\n",
       "<style scoped>\n",
       "    .dataframe tbody tr th:only-of-type {\n",
       "        vertical-align: middle;\n",
       "    }\n",
       "\n",
       "    .dataframe tbody tr th {\n",
       "        vertical-align: top;\n",
       "    }\n",
       "\n",
       "    .dataframe thead th {\n",
       "        text-align: right;\n",
       "    }\n",
       "</style>\n",
       "<table border=\"1\" class=\"dataframe\">\n",
       "  <thead>\n",
       "    <tr style=\"text-align: right;\">\n",
       "      <th></th>\n",
       "      <th>property_type</th>\n",
       "      <th>price</th>\n",
       "      <th>city</th>\n",
       "      <th>baths</th>\n",
       "      <th>bedrooms</th>\n",
       "      <th>Area_in_Marla</th>\n",
       "      <th>price_per_area</th>\n",
       "    </tr>\n",
       "  </thead>\n",
       "  <tbody>\n",
       "    <tr>\n",
       "      <th>0</th>\n",
       "      <td>House</td>\n",
       "      <td>6000000</td>\n",
       "      <td>Faisalabad</td>\n",
       "      <td>2</td>\n",
       "      <td>4</td>\n",
       "      <td>2.5</td>\n",
       "      <td>2.400000e+06</td>\n",
       "    </tr>\n",
       "    <tr>\n",
       "      <th>1</th>\n",
       "      <td>House</td>\n",
       "      <td>7000000</td>\n",
       "      <td>Faisalabad</td>\n",
       "      <td>2</td>\n",
       "      <td>4</td>\n",
       "      <td>3.0</td>\n",
       "      <td>2.333333e+06</td>\n",
       "    </tr>\n",
       "    <tr>\n",
       "      <th>2</th>\n",
       "      <td>House</td>\n",
       "      <td>25000000</td>\n",
       "      <td>Faisalabad</td>\n",
       "      <td>5</td>\n",
       "      <td>4</td>\n",
       "      <td>10.0</td>\n",
       "      <td>2.500000e+06</td>\n",
       "    </tr>\n",
       "    <tr>\n",
       "      <th>3</th>\n",
       "      <td>House</td>\n",
       "      <td>40000000</td>\n",
       "      <td>Faisalabad</td>\n",
       "      <td>5</td>\n",
       "      <td>5</td>\n",
       "      <td>10.0</td>\n",
       "      <td>4.000000e+06</td>\n",
       "    </tr>\n",
       "    <tr>\n",
       "      <th>4</th>\n",
       "      <td>House</td>\n",
       "      <td>15000000</td>\n",
       "      <td>Faisalabad</td>\n",
       "      <td>5</td>\n",
       "      <td>6</td>\n",
       "      <td>4.0</td>\n",
       "      <td>3.750000e+06</td>\n",
       "    </tr>\n",
       "  </tbody>\n",
       "</table>\n",
       "</div>"
      ],
      "text/plain": [
       "  property_type     price        city  baths  bedrooms  Area_in_Marla  \\\n",
       "0         House   6000000  Faisalabad      2         4            2.5   \n",
       "1         House   7000000  Faisalabad      2         4            3.0   \n",
       "2         House  25000000  Faisalabad      5         4           10.0   \n",
       "3         House  40000000  Faisalabad      5         5           10.0   \n",
       "4         House  15000000  Faisalabad      5         6            4.0   \n",
       "\n",
       "   price_per_area  \n",
       "0    2.400000e+06  \n",
       "1    2.333333e+06  \n",
       "2    2.500000e+06  \n",
       "3    4.000000e+06  \n",
       "4    3.750000e+06  "
      ]
     },
     "execution_count": 207,
     "metadata": {},
     "output_type": "execute_result"
    }
   ],
   "source": [
    "data6.head()"
   ]
  },
  {
   "cell_type": "code",
   "execution_count": 211,
   "id": "9a1930bd-c23f-4793-80af-b40c58c6589d",
   "metadata": {},
   "outputs": [
    {
     "data": {
      "text/plain": [
       "Text(0, 0.5, 'Count')"
      ]
     },
     "execution_count": 211,
     "metadata": {},
     "output_type": "execute_result"
    },
    {
     "data": {
      "image/png": "[encoded data removed]",
      "text/plain": [
       "<Figure size 2000x1000 with 1 Axes>"
      ]
     },
     "metadata": {},
     "output_type": "display_data"
    }
   ],
   "source": [
    "matplotlib.rcParams[\"figure.figsize\"] = (20,10)\n",
    "plt.hist(data6.price_per_area,rwidth = 0.8)\n",
    "plt.xlabel('pric e_per_area')\n",
    "plt.ylabel('Count')"
   ]
  },
  {
   "cell_type": "code",
   "execution_count": 217,
   "id": "20eddfa8-9cc6-4b03-87ef-33d4495dc292",
   "metadata": {},
   "outputs": [
    {
     "data": {
      "text/plain": [
       "Text(0, 0.5, 'Count')"
      ]
     },
     "execution_count": 217,
     "metadata": {},
     "output_type": "execute_result"
    },
    {
     "data": {
      "image/png": "[encoded data removed]",
      "text/plain": [
       "<Figure size 2000x1000 with 1 Axes>"
      ]
     },
     "metadata": {},
     "output_type": "display_data"
    }
   ],
   "source": [
    "matplotlib.rcParams[\"figure.figsize\"] = (20,10)\n",
    "plt.hist(data3.price,rwidth = 0.8)\n",
    "plt.xlabel('price_per_area')\n",
    "plt.ylabel('Count')"
   ]
  },
  {
   "cell_type": "code",
   "execution_count": 219,
   "id": "46276434-f079-4baf-9c04-4386d9542c2e",
   "metadata": {},
   "outputs": [
    {
     "data": {
      "text/plain": [
       "array([2, 5, 3, 6, 7, 4, 1], dtype=int64)"
      ]
     },
     "execution_count": 219,
     "metadata": {},
     "output_type": "execute_result"
    }
   ],
   "source": [
    "data6.baths.unique()"
   ]
  },
  {
   "cell_type": "code",
   "execution_count": 223,
   "id": "74d198d9-3f7a-49a9-972f-a43743a3ca48",
   "metadata": {},
   "outputs": [
    {
     "data": {
      "text/html": [
       "<div>\n",
       "<style scoped>\n",
       "    .dataframe tbody tr th:only-of-type {\n",
       "        vertical-align: middle;\n",
       "    }\n",
       "\n",
       "    .dataframe tbody tr th {\n",
       "        vertical-align: top;\n",
       "    }\n",
       "\n",
       "    .dataframe thead th {\n",
       "        text-align: right;\n",
       "    }\n",
       "</style>\n",
       "<table border=\"1\" class=\"dataframe\">\n",
       "  <thead>\n",
       "    <tr style=\"text-align: right;\">\n",
       "      <th></th>\n",
       "      <th>property_type</th>\n",
       "      <th>price</th>\n",
       "      <th>city</th>\n",
       "      <th>baths</th>\n",
       "      <th>bedrooms</th>\n",
       "      <th>Area_in_Marla</th>\n",
       "      <th>price_per_area</th>\n",
       "    </tr>\n",
       "  </thead>\n",
       "  <tbody>\n",
       "    <tr>\n",
       "      <th>7</th>\n",
       "      <td>House</td>\n",
       "      <td>33000000</td>\n",
       "      <td>Faisalabad</td>\n",
       "      <td>6</td>\n",
       "      <td>6</td>\n",
       "      <td>13.0</td>\n",
       "      <td>2.538462e+06</td>\n",
       "    </tr>\n",
       "    <tr>\n",
       "      <th>9</th>\n",
       "      <td>House</td>\n",
       "      <td>25000000</td>\n",
       "      <td>Faisalabad</td>\n",
       "      <td>7</td>\n",
       "      <td>5</td>\n",
       "      <td>7.0</td>\n",
       "      <td>3.571429e+06</td>\n",
       "    </tr>\n",
       "    <tr>\n",
       "      <th>10</th>\n",
       "      <td>House</td>\n",
       "      <td>25000000</td>\n",
       "      <td>Faisalabad</td>\n",
       "      <td>6</td>\n",
       "      <td>4</td>\n",
       "      <td>10.0</td>\n",
       "      <td>2.500000e+06</td>\n",
       "    </tr>\n",
       "    <tr>\n",
       "      <th>11</th>\n",
       "      <td>House</td>\n",
       "      <td>36500000</td>\n",
       "      <td>Faisalabad</td>\n",
       "      <td>7</td>\n",
       "      <td>6</td>\n",
       "      <td>13.0</td>\n",
       "      <td>2.807692e+06</td>\n",
       "    </tr>\n",
       "    <tr>\n",
       "      <th>17</th>\n",
       "      <td>House</td>\n",
       "      <td>11000000</td>\n",
       "      <td>Faisalabad</td>\n",
       "      <td>6</td>\n",
       "      <td>5</td>\n",
       "      <td>3.8</td>\n",
       "      <td>2.894737e+06</td>\n",
       "    </tr>\n",
       "    <tr>\n",
       "      <th>...</th>\n",
       "      <td>...</td>\n",
       "      <td>...</td>\n",
       "      <td>...</td>\n",
       "      <td>...</td>\n",
       "      <td>...</td>\n",
       "      <td>...</td>\n",
       "      <td>...</td>\n",
       "    </tr>\n",
       "    <tr>\n",
       "      <th>12249</th>\n",
       "      <td>House</td>\n",
       "      <td>15000000</td>\n",
       "      <td>Rawalpindi</td>\n",
       "      <td>7</td>\n",
       "      <td>5</td>\n",
       "      <td>7.0</td>\n",
       "      <td>2.142857e+06</td>\n",
       "    </tr>\n",
       "    <tr>\n",
       "      <th>12250</th>\n",
       "      <td>House</td>\n",
       "      <td>26000000</td>\n",
       "      <td>Rawalpindi</td>\n",
       "      <td>7</td>\n",
       "      <td>5</td>\n",
       "      <td>12.0</td>\n",
       "      <td>2.166667e+06</td>\n",
       "    </tr>\n",
       "    <tr>\n",
       "      <th>12251</th>\n",
       "      <td>House</td>\n",
       "      <td>14500000</td>\n",
       "      <td>Rawalpindi</td>\n",
       "      <td>7</td>\n",
       "      <td>5</td>\n",
       "      <td>7.0</td>\n",
       "      <td>2.071429e+06</td>\n",
       "    </tr>\n",
       "    <tr>\n",
       "      <th>12253</th>\n",
       "      <td>House</td>\n",
       "      <td>43500000</td>\n",
       "      <td>Rawalpindi</td>\n",
       "      <td>6</td>\n",
       "      <td>5</td>\n",
       "      <td>20.0</td>\n",
       "      <td>2.175000e+06</td>\n",
       "    </tr>\n",
       "    <tr>\n",
       "      <th>12257</th>\n",
       "      <td>House</td>\n",
       "      <td>21500000</td>\n",
       "      <td>Rawalpindi</td>\n",
       "      <td>6</td>\n",
       "      <td>5</td>\n",
       "      <td>10.0</td>\n",
       "      <td>2.150000e+06</td>\n",
       "    </tr>\n",
       "  </tbody>\n",
       "</table>\n",
       "<p>2785 rows × 7 columns</p>\n",
       "</div>"
      ],
      "text/plain": [
       "      property_type     price        city  baths  bedrooms  Area_in_Marla  \\\n",
       "7             House  33000000  Faisalabad      6         6           13.0   \n",
       "9             House  25000000  Faisalabad      7         5            7.0   \n",
       "10            House  25000000  Faisalabad      6         4           10.0   \n",
       "11            House  36500000  Faisalabad      7         6           13.0   \n",
       "17            House  11000000  Faisalabad      6         5            3.8   \n",
       "...             ...       ...         ...    ...       ...            ...   \n",
       "12249         House  15000000  Rawalpindi      7         5            7.0   \n",
       "12250         House  26000000  Rawalpindi      7         5           12.0   \n",
       "12251         House  14500000  Rawalpindi      7         5            7.0   \n",
       "12253         House  43500000  Rawalpindi      6         5           20.0   \n",
       "12257         House  21500000  Rawalpindi      6         5           10.0   \n",
       "\n",
       "       price_per_area  \n",
       "7        2.538462e+06  \n",
       "9        3.571429e+06  \n",
       "10       2.500000e+06  \n",
       "11       2.807692e+06  \n",
       "17       2.894737e+06  \n",
       "...               ...  \n",
       "12249    2.142857e+06  \n",
       "12250    2.166667e+06  \n",
       "12251    2.071429e+06  \n",
       "12253    2.175000e+06  \n",
       "12257    2.150000e+06  \n",
       "\n",
       "[2785 rows x 7 columns]"
      ]
     },
     "execution_count": 223,
     "metadata": {},
     "output_type": "execute_result"
    }
   ],
   "source": [
    "data6[data6.baths>5]"
   ]
  },
  {
   "cell_type": "code",
   "execution_count": 225,
   "id": "4a47f6af-24c5-4286-94f5-98e78af39c5a",
   "metadata": {},
   "outputs": [
    {
     "data": {
      "text/plain": [
       "Text(0, 0.5, 'Count')"
      ]
     },
     "execution_count": 225,
     "metadata": {},
     "output_type": "execute_result"
    },
    {
     "data": {
      "image/png": "[encoded data removed]",
      "text/plain": [
       "<Figure size 2000x1000 with 1 Axes>"
      ]
     },
     "metadata": {},
     "output_type": "display_data"
    }
   ],
   "source": [
    "matplotlib.rcParams[\"figure.figsize\"] = (20,10)\n",
    "plt.hist(data6.baths,rwidth = 0.8)\n",
    "plt.xlabel('baths')\n",
    "plt.ylabel('Count')"
   ]
  },
  {
   "cell_type": "code",
   "execution_count": 227,
   "id": "064f68f2-97e6-40a0-9b62-45d4c4f2546b",
   "metadata": {},
   "outputs": [
    {
     "data": {
      "text/plain": [
       "Text(0, 0.5, 'Count')"
      ]
     },
     "execution_count": 227,
     "metadata": {},
     "output_type": "execute_result"
    },
    {
     "data": {
      "image/png": "[encoded data removed]",
      "text/plain": [
       "<Figure size 2000x1000 with 1 Axes>"
      ]
     },
     "metadata": {},
     "output_type": "display_data"
    }
   ],
   "source": [
    "matplotlib.rcParams[\"figure.figsize\"] = (20,10)\n",
    "plt.hist(data6.property_type,rwidth = 0.8)\n",
    "plt.xlabel('baths')\n",
    "plt.ylabel('Count')"
   ]
  },
  {
   "cell_type": "code",
   "execution_count": 229,
   "id": "3c287008-a85b-41e9-887b-2705b743d92a",
   "metadata": {},
   "outputs": [
    {
     "data": {
      "text/plain": [
       "Text(0, 0.5, 'Count')"
      ]
     },
     "execution_count": 229,
     "metadata": {},
     "output_type": "execute_result"
    },
    {
     "data": {
      "image/png": "[encoded data removed]",
      "text/plain": [
       "<Figure size 2000x1000 with 1 Axes>"
      ]
     },
     "metadata": {},
     "output_type": "display_data"
    }
   ],
   "source": [
    "matplotlib.rcParams[\"figure.figsize\"] = (20,10)\n",
    "plt.hist(data7.price_per_area,rwidth = 0.8)\n",
    "plt.xlabel('pric e_per_area')\n",
    "plt.ylabel('Count')"
   ]
  },
  {
   "cell_type": "code",
   "execution_count": 235,
   "id": "c248e585-f623-49be-89f6-9178d79f5de7",
   "metadata": {},
   "outputs": [],
   "source": [
    "data7 = data6.drop(['price_per_area'],axis='columns')"
   ]
  },
  {
   "cell_type": "code",
   "execution_count": 239,
   "id": "b705759c-d629-45f4-bd97-29e89626bf9f",
   "metadata": {},
   "outputs": [
    {
     "data": {
      "text/html": [
       "<div>\n",
       "<style scoped>\n",
       "    .dataframe tbody tr th:only-of-type {\n",
       "        vertical-align: middle;\n",
       "    }\n",
       "\n",
       "    .dataframe tbody tr th {\n",
       "        vertical-align: top;\n",
       "    }\n",
       "\n",
       "    .dataframe thead th {\n",
       "        text-align: right;\n",
       "    }\n",
       "</style>\n",
       "<table border=\"1\" class=\"dataframe\">\n",
       "  <thead>\n",
       "    <tr style=\"text-align: right;\">\n",
       "      <th></th>\n",
       "      <th>property_type</th>\n",
       "      <th>price</th>\n",
       "      <th>city</th>\n",
       "      <th>baths</th>\n",
       "      <th>bedrooms</th>\n",
       "      <th>Area_in_Marla</th>\n",
       "    </tr>\n",
       "  </thead>\n",
       "  <tbody>\n",
       "    <tr>\n",
       "      <th>0</th>\n",
       "      <td>House</td>\n",
       "      <td>6000000</td>\n",
       "      <td>Faisalabad</td>\n",
       "      <td>2</td>\n",
       "      <td>4</td>\n",
       "      <td>2.5</td>\n",
       "    </tr>\n",
       "    <tr>\n",
       "      <th>1</th>\n",
       "      <td>House</td>\n",
       "      <td>7000000</td>\n",
       "      <td>Faisalabad</td>\n",
       "      <td>2</td>\n",
       "      <td>4</td>\n",
       "      <td>3.0</td>\n",
       "    </tr>\n",
       "    <tr>\n",
       "      <th>2</th>\n",
       "      <td>House</td>\n",
       "      <td>25000000</td>\n",
       "      <td>Faisalabad</td>\n",
       "      <td>5</td>\n",
       "      <td>4</td>\n",
       "      <td>10.0</td>\n",
       "    </tr>\n",
       "    <tr>\n",
       "      <th>3</th>\n",
       "      <td>House</td>\n",
       "      <td>40000000</td>\n",
       "      <td>Faisalabad</td>\n",
       "      <td>5</td>\n",
       "      <td>5</td>\n",
       "      <td>10.0</td>\n",
       "    </tr>\n",
       "    <tr>\n",
       "      <th>4</th>\n",
       "      <td>House</td>\n",
       "      <td>15000000</td>\n",
       "      <td>Faisalabad</td>\n",
       "      <td>5</td>\n",
       "      <td>6</td>\n",
       "      <td>4.0</td>\n",
       "    </tr>\n",
       "  </tbody>\n",
       "</table>\n",
       "</div>"
      ],
      "text/plain": [
       "  property_type     price        city  baths  bedrooms  Area_in_Marla\n",
       "0         House   6000000  Faisalabad      2         4            2.5\n",
       "1         House   7000000  Faisalabad      2         4            3.0\n",
       "2         House  25000000  Faisalabad      5         4           10.0\n",
       "3         House  40000000  Faisalabad      5         5           10.0\n",
       "4         House  15000000  Faisalabad      5         6            4.0"
      ]
     },
     "execution_count": 239,
     "metadata": {},
     "output_type": "execute_result"
    }
   ],
   "source": [
    "data7.head()"
   ]
  },
  {
   "cell_type": "code",
   "execution_count": 253,
   "id": "3bd81ade-2a42-439a-b93b-140a22b28947",
   "metadata": {},
   "outputs": [
    {
     "data": {
      "text/html": [
       "<div>\n",
       "<style scoped>\n",
       "    .dataframe tbody tr th:only-of-type {\n",
       "        vertical-align: middle;\n",
       "    }\n",
       "\n",
       "    .dataframe tbody tr th {\n",
       "        vertical-align: top;\n",
       "    }\n",
       "\n",
       "    .dataframe thead th {\n",
       "        text-align: right;\n",
       "    }\n",
       "</style>\n",
       "<table border=\"1\" class=\"dataframe\">\n",
       "  <thead>\n",
       "    <tr style=\"text-align: right;\">\n",
       "      <th></th>\n",
       "      <th>Faisalabad</th>\n",
       "      <th>Islamabad</th>\n",
       "      <th>Karachi</th>\n",
       "      <th>Lahore</th>\n",
       "      <th>Rawalpindi</th>\n",
       "    </tr>\n",
       "  </thead>\n",
       "  <tbody>\n",
       "    <tr>\n",
       "      <th>0</th>\n",
       "      <td>1.0</td>\n",
       "      <td>0.0</td>\n",
       "      <td>0.0</td>\n",
       "      <td>0.0</td>\n",
       "      <td>0.0</td>\n",
       "    </tr>\n",
       "    <tr>\n",
       "      <th>1</th>\n",
       "      <td>1.0</td>\n",
       "      <td>0.0</td>\n",
       "      <td>0.0</td>\n",
       "      <td>0.0</td>\n",
       "      <td>0.0</td>\n",
       "    </tr>\n",
       "    <tr>\n",
       "      <th>2</th>\n",
       "      <td>1.0</td>\n",
       "      <td>0.0</td>\n",
       "      <td>0.0</td>\n",
       "      <td>0.0</td>\n",
       "      <td>0.0</td>\n",
       "    </tr>\n",
       "    <tr>\n",
       "      <th>3</th>\n",
       "      <td>1.0</td>\n",
       "      <td>0.0</td>\n",
       "      <td>0.0</td>\n",
       "      <td>0.0</td>\n",
       "      <td>0.0</td>\n",
       "    </tr>\n",
       "    <tr>\n",
       "      <th>4</th>\n",
       "      <td>1.0</td>\n",
       "      <td>0.0</td>\n",
       "      <td>0.0</td>\n",
       "      <td>0.0</td>\n",
       "      <td>0.0</td>\n",
       "    </tr>\n",
       "  </tbody>\n",
       "</table>\n",
       "</div>"
      ],
      "text/plain": [
       "   Faisalabad  Islamabad  Karachi  Lahore  Rawalpindi\n",
       "0         1.0        0.0      0.0     0.0         0.0\n",
       "1         1.0        0.0      0.0     0.0         0.0\n",
       "2         1.0        0.0      0.0     0.0         0.0\n",
       "3         1.0        0.0      0.0     0.0         0.0\n",
       "4         1.0        0.0      0.0     0.0         0.0"
      ]
     },
     "execution_count": 253,
     "metadata": {},
     "output_type": "execute_result"
    }
   ],
   "source": [
    "dummies= pd.get_dummies(data7.city,dtype=float)\n",
    "dummies.head(5)"
   ]
  },
  {
   "cell_type": "code",
   "execution_count": 255,
   "id": "7a178e37-dab5-4b0d-a4c7-c039fdf3f449",
   "metadata": {},
   "outputs": [
    {
     "data": {
      "text/html": [
       "<div>\n",
       "<style scoped>\n",
       "    .dataframe tbody tr th:only-of-type {\n",
       "        vertical-align: middle;\n",
       "    }\n",
       "\n",
       "    .dataframe tbody tr th {\n",
       "        vertical-align: top;\n",
       "    }\n",
       "\n",
       "    .dataframe thead th {\n",
       "        text-align: right;\n",
       "    }\n",
       "</style>\n",
       "<table border=\"1\" class=\"dataframe\">\n",
       "  <thead>\n",
       "    <tr style=\"text-align: right;\">\n",
       "      <th></th>\n",
       "      <th>property_type</th>\n",
       "      <th>price</th>\n",
       "      <th>city</th>\n",
       "      <th>baths</th>\n",
       "      <th>bedrooms</th>\n",
       "      <th>Area_in_Marla</th>\n",
       "      <th>Faisalabad</th>\n",
       "      <th>Islamabad</th>\n",
       "      <th>Karachi</th>\n",
       "      <th>Lahore</th>\n",
       "      <th>Rawalpindi</th>\n",
       "    </tr>\n",
       "  </thead>\n",
       "  <tbody>\n",
       "    <tr>\n",
       "      <th>0</th>\n",
       "      <td>House</td>\n",
       "      <td>6000000</td>\n",
       "      <td>Faisalabad</td>\n",
       "      <td>2</td>\n",
       "      <td>4</td>\n",
       "      <td>2.5</td>\n",
       "      <td>1.0</td>\n",
       "      <td>0.0</td>\n",
       "      <td>0.0</td>\n",
       "      <td>0.0</td>\n",
       "      <td>0.0</td>\n",
       "    </tr>\n",
       "    <tr>\n",
       "      <th>1</th>\n",
       "      <td>House</td>\n",
       "      <td>7000000</td>\n",
       "      <td>Faisalabad</td>\n",
       "      <td>2</td>\n",
       "      <td>4</td>\n",
       "      <td>3.0</td>\n",
       "      <td>1.0</td>\n",
       "      <td>0.0</td>\n",
       "      <td>0.0</td>\n",
       "      <td>0.0</td>\n",
       "      <td>0.0</td>\n",
       "    </tr>\n",
       "    <tr>\n",
       "      <th>2</th>\n",
       "      <td>House</td>\n",
       "      <td>25000000</td>\n",
       "      <td>Faisalabad</td>\n",
       "      <td>5</td>\n",
       "      <td>4</td>\n",
       "      <td>10.0</td>\n",
       "      <td>1.0</td>\n",
       "      <td>0.0</td>\n",
       "      <td>0.0</td>\n",
       "      <td>0.0</td>\n",
       "      <td>0.0</td>\n",
       "    </tr>\n",
       "    <tr>\n",
       "      <th>3</th>\n",
       "      <td>House</td>\n",
       "      <td>40000000</td>\n",
       "      <td>Faisalabad</td>\n",
       "      <td>5</td>\n",
       "      <td>5</td>\n",
       "      <td>10.0</td>\n",
       "      <td>1.0</td>\n",
       "      <td>0.0</td>\n",
       "      <td>0.0</td>\n",
       "      <td>0.0</td>\n",
       "      <td>0.0</td>\n",
       "    </tr>\n",
       "    <tr>\n",
       "      <th>4</th>\n",
       "      <td>House</td>\n",
       "      <td>15000000</td>\n",
       "      <td>Faisalabad</td>\n",
       "      <td>5</td>\n",
       "      <td>6</td>\n",
       "      <td>4.0</td>\n",
       "      <td>1.0</td>\n",
       "      <td>0.0</td>\n",
       "      <td>0.0</td>\n",
       "      <td>0.0</td>\n",
       "      <td>0.0</td>\n",
       "    </tr>\n",
       "  </tbody>\n",
       "</table>\n",
       "</div>"
      ],
      "text/plain": [
       "  property_type     price        city  baths  bedrooms  Area_in_Marla  \\\n",
       "0         House   6000000  Faisalabad      2         4            2.5   \n",
       "1         House   7000000  Faisalabad      2         4            3.0   \n",
       "2         House  25000000  Faisalabad      5         4           10.0   \n",
       "3         House  40000000  Faisalabad      5         5           10.0   \n",
       "4         House  15000000  Faisalabad      5         6            4.0   \n",
       "\n",
       "   Faisalabad  Islamabad  Karachi  Lahore  Rawalpindi  \n",
       "0         1.0        0.0      0.0     0.0         0.0  \n",
       "1         1.0        0.0      0.0     0.0         0.0  \n",
       "2         1.0        0.0      0.0     0.0         0.0  \n",
       "3         1.0        0.0      0.0     0.0         0.0  \n",
       "4         1.0        0.0      0.0     0.0         0.0  "
      ]
     },
     "execution_count": 255,
     "metadata": {},
     "output_type": "execute_result"
    }
   ],
   "source": [
    "data8 = pd.concat([data7,dummies],axis = 'columns')\n",
    "data8.head(5)"
   ]
  },
  {
   "cell_type": "code",
   "execution_count": 257,
   "id": "4412d2bc-5ff7-4546-81a9-e5959c4db18d",
   "metadata": {},
   "outputs": [
    {
     "data": {
      "text/html": [
       "<div>\n",
       "<style scoped>\n",
       "    .dataframe tbody tr th:only-of-type {\n",
       "        vertical-align: middle;\n",
       "    }\n",
       "\n",
       "    .dataframe tbody tr th {\n",
       "        vertical-align: top;\n",
       "    }\n",
       "\n",
       "    .dataframe thead th {\n",
       "        text-align: right;\n",
       "    }\n",
       "</style>\n",
       "<table border=\"1\" class=\"dataframe\">\n",
       "  <thead>\n",
       "    <tr style=\"text-align: right;\">\n",
       "      <th></th>\n",
       "      <th>Farm House</th>\n",
       "      <th>Flat</th>\n",
       "      <th>House</th>\n",
       "      <th>Lower Portion</th>\n",
       "      <th>Penthouse</th>\n",
       "      <th>Room</th>\n",
       "      <th>Upper Portion</th>\n",
       "    </tr>\n",
       "  </thead>\n",
       "  <tbody>\n",
       "    <tr>\n",
       "      <th>0</th>\n",
       "      <td>0.0</td>\n",
       "      <td>0.0</td>\n",
       "      <td>1.0</td>\n",
       "      <td>0.0</td>\n",
       "      <td>0.0</td>\n",
       "      <td>0.0</td>\n",
       "      <td>0.0</td>\n",
       "    </tr>\n",
       "    <tr>\n",
       "      <th>1</th>\n",
       "      <td>0.0</td>\n",
       "      <td>0.0</td>\n",
       "      <td>1.0</td>\n",
       "      <td>0.0</td>\n",
       "      <td>0.0</td>\n",
       "      <td>0.0</td>\n",
       "      <td>0.0</td>\n",
       "    </tr>\n",
       "    <tr>\n",
       "      <th>2</th>\n",
       "      <td>0.0</td>\n",
       "      <td>0.0</td>\n",
       "      <td>1.0</td>\n",
       "      <td>0.0</td>\n",
       "      <td>0.0</td>\n",
       "      <td>0.0</td>\n",
       "      <td>0.0</td>\n",
       "    </tr>\n",
       "    <tr>\n",
       "      <th>3</th>\n",
       "      <td>0.0</td>\n",
       "      <td>0.0</td>\n",
       "      <td>1.0</td>\n",
       "      <td>0.0</td>\n",
       "      <td>0.0</td>\n",
       "      <td>0.0</td>\n",
       "      <td>0.0</td>\n",
       "    </tr>\n",
       "    <tr>\n",
       "      <th>4</th>\n",
       "      <td>0.0</td>\n",
       "      <td>0.0</td>\n",
       "      <td>1.0</td>\n",
       "      <td>0.0</td>\n",
       "      <td>0.0</td>\n",
       "      <td>0.0</td>\n",
       "      <td>0.0</td>\n",
       "    </tr>\n",
       "  </tbody>\n",
       "</table>\n",
       "</div>"
      ],
      "text/plain": [
       "   Farm House  Flat  House  Lower Portion  Penthouse  Room  Upper Portion\n",
       "0         0.0   0.0    1.0            0.0        0.0   0.0            0.0\n",
       "1         0.0   0.0    1.0            0.0        0.0   0.0            0.0\n",
       "2         0.0   0.0    1.0            0.0        0.0   0.0            0.0\n",
       "3         0.0   0.0    1.0            0.0        0.0   0.0            0.0\n",
       "4         0.0   0.0    1.0            0.0        0.0   0.0            0.0"
      ]
     },
     "execution_count": 257,
     "metadata": {},
     "output_type": "execute_result"
    }
   ],
   "source": [
    "dummies_new = pd.get_dummies(data8.property_type,dtype=float)\n",
    "dummies_new.head(5)"
   ]
  },
  {
   "cell_type": "code",
   "execution_count": 261,
   "id": "5824e1c4-fedb-4718-9845-541df128831a",
   "metadata": {},
   "outputs": [
    {
     "data": {
      "text/html": [
       "<div>\n",
       "<style scoped>\n",
       "    .dataframe tbody tr th:only-of-type {\n",
       "        vertical-align: middle;\n",
       "    }\n",
       "\n",
       "    .dataframe tbody tr th {\n",
       "        vertical-align: top;\n",
       "    }\n",
       "\n",
       "    .dataframe thead th {\n",
       "        text-align: right;\n",
       "    }\n",
       "</style>\n",
       "<table border=\"1\" class=\"dataframe\">\n",
       "  <thead>\n",
       "    <tr style=\"text-align: right;\">\n",
       "      <th></th>\n",
       "      <th>property_type</th>\n",
       "      <th>price</th>\n",
       "      <th>city</th>\n",
       "      <th>baths</th>\n",
       "      <th>bedrooms</th>\n",
       "      <th>Area_in_Marla</th>\n",
       "      <th>Faisalabad</th>\n",
       "      <th>Islamabad</th>\n",
       "      <th>Karachi</th>\n",
       "      <th>Lahore</th>\n",
       "      <th>Rawalpindi</th>\n",
       "      <th>Farm House</th>\n",
       "      <th>Flat</th>\n",
       "      <th>House</th>\n",
       "      <th>Lower Portion</th>\n",
       "      <th>Penthouse</th>\n",
       "      <th>Room</th>\n",
       "      <th>Upper Portion</th>\n",
       "    </tr>\n",
       "  </thead>\n",
       "  <tbody>\n",
       "    <tr>\n",
       "      <th>0</th>\n",
       "      <td>House</td>\n",
       "      <td>6000000</td>\n",
       "      <td>Faisalabad</td>\n",
       "      <td>2</td>\n",
       "      <td>4</td>\n",
       "      <td>2.5</td>\n",
       "      <td>1.0</td>\n",
       "      <td>0.0</td>\n",
       "      <td>0.0</td>\n",
       "      <td>0.0</td>\n",
       "      <td>0.0</td>\n",
       "      <td>0.0</td>\n",
       "      <td>0.0</td>\n",
       "      <td>1.0</td>\n",
       "      <td>0.0</td>\n",
       "      <td>0.0</td>\n",
       "      <td>0.0</td>\n",
       "      <td>0.0</td>\n",
       "    </tr>\n",
       "    <tr>\n",
       "      <th>1</th>\n",
       "      <td>House</td>\n",
       "      <td>7000000</td>\n",
       "      <td>Faisalabad</td>\n",
       "      <td>2</td>\n",
       "      <td>4</td>\n",
       "      <td>3.0</td>\n",
       "      <td>1.0</td>\n",
       "      <td>0.0</td>\n",
       "      <td>0.0</td>\n",
       "      <td>0.0</td>\n",
       "      <td>0.0</td>\n",
       "      <td>0.0</td>\n",
       "      <td>0.0</td>\n",
       "      <td>1.0</td>\n",
       "      <td>0.0</td>\n",
       "      <td>0.0</td>\n",
       "      <td>0.0</td>\n",
       "      <td>0.0</td>\n",
       "    </tr>\n",
       "    <tr>\n",
       "      <th>2</th>\n",
       "      <td>House</td>\n",
       "      <td>25000000</td>\n",
       "      <td>Faisalabad</td>\n",
       "      <td>5</td>\n",
       "      <td>4</td>\n",
       "      <td>10.0</td>\n",
       "      <td>1.0</td>\n",
       "      <td>0.0</td>\n",
       "      <td>0.0</td>\n",
       "      <td>0.0</td>\n",
       "      <td>0.0</td>\n",
       "      <td>0.0</td>\n",
       "      <td>0.0</td>\n",
       "      <td>1.0</td>\n",
       "      <td>0.0</td>\n",
       "      <td>0.0</td>\n",
       "      <td>0.0</td>\n",
       "      <td>0.0</td>\n",
       "    </tr>\n",
       "    <tr>\n",
       "      <th>3</th>\n",
       "      <td>House</td>\n",
       "      <td>40000000</td>\n",
       "      <td>Faisalabad</td>\n",
       "      <td>5</td>\n",
       "      <td>5</td>\n",
       "      <td>10.0</td>\n",
       "      <td>1.0</td>\n",
       "      <td>0.0</td>\n",
       "      <td>0.0</td>\n",
       "      <td>0.0</td>\n",
       "      <td>0.0</td>\n",
       "      <td>0.0</td>\n",
       "      <td>0.0</td>\n",
       "      <td>1.0</td>\n",
       "      <td>0.0</td>\n",
       "      <td>0.0</td>\n",
       "      <td>0.0</td>\n",
       "      <td>0.0</td>\n",
       "    </tr>\n",
       "    <tr>\n",
       "      <th>4</th>\n",
       "      <td>House</td>\n",
       "      <td>15000000</td>\n",
       "      <td>Faisalabad</td>\n",
       "      <td>5</td>\n",
       "      <td>6</td>\n",
       "      <td>4.0</td>\n",
       "      <td>1.0</td>\n",
       "      <td>0.0</td>\n",
       "      <td>0.0</td>\n",
       "      <td>0.0</td>\n",
       "      <td>0.0</td>\n",
       "      <td>0.0</td>\n",
       "      <td>0.0</td>\n",
       "      <td>1.0</td>\n",
       "      <td>0.0</td>\n",
       "      <td>0.0</td>\n",
       "      <td>0.0</td>\n",
       "      <td>0.0</td>\n",
       "    </tr>\n",
       "  </tbody>\n",
       "</table>\n",
       "</div>"
      ],
      "text/plain": [
       "  property_type     price        city  baths  bedrooms  Area_in_Marla  \\\n",
       "0         House   6000000  Faisalabad      2         4            2.5   \n",
       "1         House   7000000  Faisalabad      2         4            3.0   \n",
       "2         House  25000000  Faisalabad      5         4           10.0   \n",
       "3         House  40000000  Faisalabad      5         5           10.0   \n",
       "4         House  15000000  Faisalabad      5         6            4.0   \n",
       "\n",
       "   Faisalabad  Islamabad  Karachi  Lahore  Rawalpindi  Farm House  Flat  \\\n",
       "0         1.0        0.0      0.0     0.0         0.0         0.0   0.0   \n",
       "1         1.0        0.0      0.0     0.0         0.0         0.0   0.0   \n",
       "2         1.0        0.0      0.0     0.0         0.0         0.0   0.0   \n",
       "3         1.0        0.0      0.0     0.0         0.0         0.0   0.0   \n",
       "4         1.0        0.0      0.0     0.0         0.0         0.0   0.0   \n",
       "\n",
       "   House  Lower Portion  Penthouse  Room  Upper Portion  \n",
       "0    1.0            0.0        0.0   0.0            0.0  \n",
       "1    1.0            0.0        0.0   0.0            0.0  \n",
       "2    1.0            0.0        0.0   0.0            0.0  \n",
       "3    1.0            0.0        0.0   0.0            0.0  \n",
       "4    1.0            0.0        0.0   0.0            0.0  "
      ]
     },
     "execution_count": 261,
     "metadata": {},
     "output_type": "execute_result"
    }
   ],
   "source": [
    "data8 = pd.concat([data8,dummies_new],axis='columns')\n",
    "data8.head(5)"
   ]
  },
  {
   "cell_type": "code",
   "execution_count": 273,
   "id": "e1350592-99bf-4d1e-a79e-96fe8305e7b5",
   "metadata": {},
   "outputs": [
    {
     "data": {
      "text/html": [
       "<div>\n",
       "<style scoped>\n",
       "    .dataframe tbody tr th:only-of-type {\n",
       "        vertical-align: middle;\n",
       "    }\n",
       "\n",
       "    .dataframe tbody tr th {\n",
       "        vertical-align: top;\n",
       "    }\n",
       "\n",
       "    .dataframe thead th {\n",
       "        text-align: right;\n",
       "    }\n",
       "</style>\n",
       "<table border=\"1\" class=\"dataframe\">\n",
       "  <thead>\n",
       "    <tr style=\"text-align: right;\">\n",
       "      <th></th>\n",
       "      <th>price</th>\n",
       "      <th>baths</th>\n",
       "      <th>bedrooms</th>\n",
       "      <th>Area_in_Marla</th>\n",
       "      <th>Faisalabad</th>\n",
       "      <th>Islamabad</th>\n",
       "      <th>Karachi</th>\n",
       "      <th>Lahore</th>\n",
       "      <th>Rawalpindi</th>\n",
       "      <th>Farm House</th>\n",
       "      <th>Flat</th>\n",
       "      <th>House</th>\n",
       "      <th>Lower Portion</th>\n",
       "      <th>Penthouse</th>\n",
       "      <th>Room</th>\n",
       "      <th>Upper Portion</th>\n",
       "    </tr>\n",
       "  </thead>\n",
       "  <tbody>\n",
       "    <tr>\n",
       "      <th>0</th>\n",
       "      <td>6000000</td>\n",
       "      <td>2</td>\n",
       "      <td>4</td>\n",
       "      <td>2.5</td>\n",
       "      <td>1.0</td>\n",
       "      <td>0.0</td>\n",
       "      <td>0.0</td>\n",
       "      <td>0.0</td>\n",
       "      <td>0.0</td>\n",
       "      <td>0.0</td>\n",
       "      <td>0.0</td>\n",
       "      <td>1.0</td>\n",
       "      <td>0.0</td>\n",
       "      <td>0.0</td>\n",
       "      <td>0.0</td>\n",
       "      <td>0.0</td>\n",
       "    </tr>\n",
       "    <tr>\n",
       "      <th>1</th>\n",
       "      <td>7000000</td>\n",
       "      <td>2</td>\n",
       "      <td>4</td>\n",
       "      <td>3.0</td>\n",
       "      <td>1.0</td>\n",
       "      <td>0.0</td>\n",
       "      <td>0.0</td>\n",
       "      <td>0.0</td>\n",
       "      <td>0.0</td>\n",
       "      <td>0.0</td>\n",
       "      <td>0.0</td>\n",
       "      <td>1.0</td>\n",
       "      <td>0.0</td>\n",
       "      <td>0.0</td>\n",
       "      <td>0.0</td>\n",
       "      <td>0.0</td>\n",
       "    </tr>\n",
       "    <tr>\n",
       "      <th>2</th>\n",
       "      <td>25000000</td>\n",
       "      <td>5</td>\n",
       "      <td>4</td>\n",
       "      <td>10.0</td>\n",
       "      <td>1.0</td>\n",
       "      <td>0.0</td>\n",
       "      <td>0.0</td>\n",
       "      <td>0.0</td>\n",
       "      <td>0.0</td>\n",
       "      <td>0.0</td>\n",
       "      <td>0.0</td>\n",
       "      <td>1.0</td>\n",
       "      <td>0.0</td>\n",
       "      <td>0.0</td>\n",
       "      <td>0.0</td>\n",
       "      <td>0.0</td>\n",
       "    </tr>\n",
       "    <tr>\n",
       "      <th>3</th>\n",
       "      <td>40000000</td>\n",
       "      <td>5</td>\n",
       "      <td>5</td>\n",
       "      <td>10.0</td>\n",
       "      <td>1.0</td>\n",
       "      <td>0.0</td>\n",
       "      <td>0.0</td>\n",
       "      <td>0.0</td>\n",
       "      <td>0.0</td>\n",
       "      <td>0.0</td>\n",
       "      <td>0.0</td>\n",
       "      <td>1.0</td>\n",
       "      <td>0.0</td>\n",
       "      <td>0.0</td>\n",
       "      <td>0.0</td>\n",
       "      <td>0.0</td>\n",
       "    </tr>\n",
       "    <tr>\n",
       "      <th>4</th>\n",
       "      <td>15000000</td>\n",
       "      <td>5</td>\n",
       "      <td>6</td>\n",
       "      <td>4.0</td>\n",
       "      <td>1.0</td>\n",
       "      <td>0.0</td>\n",
       "      <td>0.0</td>\n",
       "      <td>0.0</td>\n",
       "      <td>0.0</td>\n",
       "      <td>0.0</td>\n",
       "      <td>0.0</td>\n",
       "      <td>1.0</td>\n",
       "      <td>0.0</td>\n",
       "      <td>0.0</td>\n",
       "      <td>0.0</td>\n",
       "      <td>0.0</td>\n",
       "    </tr>\n",
       "  </tbody>\n",
       "</table>\n",
       "</div>"
      ],
      "text/plain": [
       "      price  baths  bedrooms  Area_in_Marla  Faisalabad  Islamabad  Karachi  \\\n",
       "0   6000000      2         4            2.5         1.0        0.0      0.0   \n",
       "1   7000000      2         4            3.0         1.0        0.0      0.0   \n",
       "2  25000000      5         4           10.0         1.0        0.0      0.0   \n",
       "3  40000000      5         5           10.0         1.0        0.0      0.0   \n",
       "4  15000000      5         6            4.0         1.0        0.0      0.0   \n",
       "\n",
       "   Lahore  Rawalpindi  Farm House  Flat  House  Lower Portion  Penthouse  \\\n",
       "0     0.0         0.0         0.0   0.0    1.0            0.0        0.0   \n",
       "1     0.0         0.0         0.0   0.0    1.0            0.0        0.0   \n",
       "2     0.0         0.0         0.0   0.0    1.0            0.0        0.0   \n",
       "3     0.0         0.0         0.0   0.0    1.0            0.0        0.0   \n",
       "4     0.0         0.0         0.0   0.0    1.0            0.0        0.0   \n",
       "\n",
       "   Room  Upper Portion  \n",
       "0   0.0            0.0  \n",
       "1   0.0            0.0  \n",
       "2   0.0            0.0  \n",
       "3   0.0            0.0  \n",
       "4   0.0            0.0  "
      ]
     },
     "execution_count": 273,
     "metadata": {},
     "output_type": "execute_result"
    }
   ],
   "source": [
    "data9 = data8.drop(['property_type','city'],axis='columns')\n",
    "data9.head()"
   ]
  },
  {
   "cell_type": "code",
   "execution_count": 275,
   "id": "b63ee057-d43b-44fe-a3f7-31d376a07d45",
   "metadata": {},
   "outputs": [
    {
     "data": {
      "text/plain": [
       "(12258, 16)"
      ]
     },
     "execution_count": 275,
     "metadata": {},
     "output_type": "execute_result"
    }
   ],
   "source": [
    "data9.shape"
   ]
  },
  {
   "cell_type": "code",
   "execution_count": 281,
   "id": "67eb17df-084c-4d2e-af09-2ce6230050c4",
   "metadata": {},
   "outputs": [
    {
     "data": {
      "text/html": [
       "<div>\n",
       "<style scoped>\n",
       "    .dataframe tbody tr th:only-of-type {\n",
       "        vertical-align: middle;\n",
       "    }\n",
       "\n",
       "    .dataframe tbody tr th {\n",
       "        vertical-align: top;\n",
       "    }\n",
       "\n",
       "    .dataframe thead th {\n",
       "        text-align: right;\n",
       "    }\n",
       "</style>\n",
       "<table border=\"1\" class=\"dataframe\">\n",
       "  <thead>\n",
       "    <tr style=\"text-align: right;\">\n",
       "      <th></th>\n",
       "      <th>baths</th>\n",
       "      <th>bedrooms</th>\n",
       "      <th>Area_in_Marla</th>\n",
       "      <th>Faisalabad</th>\n",
       "      <th>Islamabad</th>\n",
       "      <th>Karachi</th>\n",
       "      <th>Lahore</th>\n",
       "      <th>Rawalpindi</th>\n",
       "      <th>Farm House</th>\n",
       "      <th>Flat</th>\n",
       "      <th>House</th>\n",
       "      <th>Lower Portion</th>\n",
       "      <th>Penthouse</th>\n",
       "      <th>Room</th>\n",
       "      <th>Upper Portion</th>\n",
       "    </tr>\n",
       "  </thead>\n",
       "  <tbody>\n",
       "    <tr>\n",
       "      <th>0</th>\n",
       "      <td>2</td>\n",
       "      <td>4</td>\n",
       "      <td>2.5</td>\n",
       "      <td>1.0</td>\n",
       "      <td>0.0</td>\n",
       "      <td>0.0</td>\n",
       "      <td>0.0</td>\n",
       "      <td>0.0</td>\n",
       "      <td>0.0</td>\n",
       "      <td>0.0</td>\n",
       "      <td>1.0</td>\n",
       "      <td>0.0</td>\n",
       "      <td>0.0</td>\n",
       "      <td>0.0</td>\n",
       "      <td>0.0</td>\n",
       "    </tr>\n",
       "    <tr>\n",
       "      <th>1</th>\n",
       "      <td>2</td>\n",
       "      <td>4</td>\n",
       "      <td>3.0</td>\n",
       "      <td>1.0</td>\n",
       "      <td>0.0</td>\n",
       "      <td>0.0</td>\n",
       "      <td>0.0</td>\n",
       "      <td>0.0</td>\n",
       "      <td>0.0</td>\n",
       "      <td>0.0</td>\n",
       "      <td>1.0</td>\n",
       "      <td>0.0</td>\n",
       "      <td>0.0</td>\n",
       "      <td>0.0</td>\n",
       "      <td>0.0</td>\n",
       "    </tr>\n",
       "    <tr>\n",
       "      <th>2</th>\n",
       "      <td>5</td>\n",
       "      <td>4</td>\n",
       "      <td>10.0</td>\n",
       "      <td>1.0</td>\n",
       "      <td>0.0</td>\n",
       "      <td>0.0</td>\n",
       "      <td>0.0</td>\n",
       "      <td>0.0</td>\n",
       "      <td>0.0</td>\n",
       "      <td>0.0</td>\n",
       "      <td>1.0</td>\n",
       "      <td>0.0</td>\n",
       "      <td>0.0</td>\n",
       "      <td>0.0</td>\n",
       "      <td>0.0</td>\n",
       "    </tr>\n",
       "    <tr>\n",
       "      <th>3</th>\n",
       "      <td>5</td>\n",
       "      <td>5</td>\n",
       "      <td>10.0</td>\n",
       "      <td>1.0</td>\n",
       "      <td>0.0</td>\n",
       "      <td>0.0</td>\n",
       "      <td>0.0</td>\n",
       "      <td>0.0</td>\n",
       "      <td>0.0</td>\n",
       "      <td>0.0</td>\n",
       "      <td>1.0</td>\n",
       "      <td>0.0</td>\n",
       "      <td>0.0</td>\n",
       "      <td>0.0</td>\n",
       "      <td>0.0</td>\n",
       "    </tr>\n",
       "    <tr>\n",
       "      <th>4</th>\n",
       "      <td>5</td>\n",
       "      <td>6</td>\n",
       "      <td>4.0</td>\n",
       "      <td>1.0</td>\n",
       "      <td>0.0</td>\n",
       "      <td>0.0</td>\n",
       "      <td>0.0</td>\n",
       "      <td>0.0</td>\n",
       "      <td>0.0</td>\n",
       "      <td>0.0</td>\n",
       "      <td>1.0</td>\n",
       "      <td>0.0</td>\n",
       "      <td>0.0</td>\n",
       "      <td>0.0</td>\n",
       "      <td>0.0</td>\n",
       "    </tr>\n",
       "  </tbody>\n",
       "</table>\n",
       "</div>"
      ],
      "text/plain": [
       "   baths  bedrooms  Area_in_Marla  Faisalabad  Islamabad  Karachi  Lahore  \\\n",
       "0      2         4            2.5         1.0        0.0      0.0     0.0   \n",
       "1      2         4            3.0         1.0        0.0      0.0     0.0   \n",
       "2      5         4           10.0         1.0        0.0      0.0     0.0   \n",
       "3      5         5           10.0         1.0        0.0      0.0     0.0   \n",
       "4      5         6            4.0         1.0        0.0      0.0     0.0   \n",
       "\n",
       "   Rawalpindi  Farm House  Flat  House  Lower Portion  Penthouse  Room  \\\n",
       "0         0.0         0.0   0.0    1.0            0.0        0.0   0.0   \n",
       "1         0.0         0.0   0.0    1.0            0.0        0.0   0.0   \n",
       "2         0.0         0.0   0.0    1.0            0.0        0.0   0.0   \n",
       "3         0.0         0.0   0.0    1.0            0.0        0.0   0.0   \n",
       "4         0.0         0.0   0.0    1.0            0.0        0.0   0.0   \n",
       "\n",
       "   Upper Portion  \n",
       "0            0.0  \n",
       "1            0.0  \n",
       "2            0.0  \n",
       "3            0.0  \n",
       "4            0.0  "
      ]
     },
     "execution_count": 281,
     "metadata": {},
     "output_type": "execute_result"
    }
   ],
   "source": [
    "X = data9.drop('price',axis= 'columns')\n",
    "X.head()"
   ]
  },
  {
   "cell_type": "code",
   "execution_count": 283,
   "id": "f29676c2-b2d9-44ad-a0f4-8c7793ac06e1",
   "metadata": {},
   "outputs": [
    {
     "data": {
      "text/plain": [
       "0     6000000\n",
       "1     7000000\n",
       "2    25000000\n",
       "3    40000000\n",
       "4    15000000\n",
       "Name: price, dtype: int64"
      ]
     },
     "execution_count": 283,
     "metadata": {},
     "output_type": "execute_result"
    }
   ],
   "source": [
    "y= data9.price\n",
    "y.head()"
   ]
  },
  {
   "cell_type": "code",
   "execution_count": 285,
   "id": "6701ae11-ffa3-4ce3-ab7d-918d547424bb",
   "metadata": {},
   "outputs": [],
   "source": [
    "from sklearn.model_selection import train_test_split\n",
    "X_train,X_test,y_train,y_test = train_test_split(X,y,test_size = 0.2,random_state = 10)"
   ]
  },
  {
   "cell_type": "code",
   "execution_count": 287,
   "id": "d89764eb-23d8-4017-91e8-98698a0fed21",
   "metadata": {},
   "outputs": [
    {
     "data": {
      "text/plain": [
       "0.6748583971261799"
      ]
     },
     "execution_count": 287,
     "metadata": {},
     "output_type": "execute_result"
    }
   ],
   "source": [
    "from sklearn.linear_model import LinearRegression\n",
    "lr = LinearRegression()\n",
    "lr.fit(X_train,y_train)\n",
    "lr.score(X_test,y_test)"
   ]
  },
  {
   "cell_type": "code",
   "execution_count": 289,
   "id": "dde07515-b19d-47eb-b9b7-0ab803157cb4",
   "metadata": {},
   "outputs": [
    {
     "data": {
      "text/plain": [
       "array([0.67579003, 0.69278725, 0.67945899, 0.65539646, 0.68037867])"
      ]
     },
     "execution_count": 289,
     "metadata": {},
     "output_type": "execute_result"
    }
   ],
   "source": [
    "from sklearn.model_selection import ShuffleSplit\n",
    "from sklearn.model_selection import cross_val_score\n",
    "\n",
    "cv = ShuffleSplit(n_splits=5,test_size=0.2,random_state= 0)\n",
    "cross_val_score( LinearRegression(),X,y,cv=cv)"
   ]
  },
  {
   "cell_type": "code",
   "execution_count": 295,
   "id": "e8e5165f-5b9c-4243-ad13-9c26bb10b327",
   "metadata": {},
   "outputs": [
    {
     "name": "stderr",
     "output_type": "stream",
     "text": [
      "C:\\Users\\Lahiru\\anaconda3\\Lib\\site-packages\\sklearn\\linear_model\\_coordinate_descent.py:678: ConvergenceWarning: Objective did not converge. You might want to increase the number of iterations, check the scale of the features or consider increasing regularisation. Duality gap: 5.776e+16, tolerance: 9.384e+13\n",
      "  model = cd_fast.enet_coordinate_descent(\n",
      "C:\\Users\\Lahiru\\anaconda3\\Lib\\site-packages\\sklearn\\linear_model\\_coordinate_descent.py:678: ConvergenceWarning: Objective did not converge. You might want to increase the number of iterations, check the scale of the features or consider increasing regularisation. Duality gap: 1.123e+17, tolerance: 9.383e+13\n",
      "  model = cd_fast.enet_coordinate_descent(\n",
      "C:\\Users\\Lahiru\\anaconda3\\Lib\\site-packages\\sklearn\\linear_model\\_coordinate_descent.py:678: ConvergenceWarning: Objective did not converge. You might want to increase the number of iterations, check the scale of the features or consider increasing regularisation. Duality gap: 1.173e+17, tolerance: 9.123e+13\n",
      "  model = cd_fast.enet_coordinate_descent(\n",
      "C:\\Users\\Lahiru\\anaconda3\\Lib\\site-packages\\sklearn\\linear_model\\_coordinate_descent.py:678: ConvergenceWarning: Objective did not converge. You might want to increase the number of iterations, check the scale of the features or consider increasing regularisation. Duality gap: 1.102e+17, tolerance: 9.154e+13\n",
      "  model = cd_fast.enet_coordinate_descent(\n",
      "C:\\Users\\Lahiru\\anaconda3\\Lib\\site-packages\\sklearn\\linear_model\\_coordinate_descent.py:678: ConvergenceWarning: Objective did not converge. You might want to increase the number of iterations, check the scale of the features or consider increasing regularisation. Duality gap: 2.726e+16, tolerance: 9.384e+13\n",
      "  model = cd_fast.enet_coordinate_descent(\n",
      "C:\\Users\\Lahiru\\anaconda3\\Lib\\site-packages\\sklearn\\linear_model\\_coordinate_descent.py:678: ConvergenceWarning: Objective did not converge. You might want to increase the number of iterations, check the scale of the features or consider increasing regularisation. Duality gap: 1.057e+16, tolerance: 9.383e+13\n",
      "  model = cd_fast.enet_coordinate_descent(\n",
      "C:\\Users\\Lahiru\\anaconda3\\Lib\\site-packages\\sklearn\\linear_model\\_coordinate_descent.py:678: ConvergenceWarning: Objective did not converge. You might want to increase the number of iterations, check the scale of the features or consider increasing regularisation. Duality gap: 5.086e+15, tolerance: 9.123e+13\n",
      "  model = cd_fast.enet_coordinate_descent(\n",
      "C:\\Users\\Lahiru\\anaconda3\\Lib\\site-packages\\sklearn\\linear_model\\_coordinate_descent.py:678: ConvergenceWarning: Objective did not converge. You might want to increase the number of iterations, check the scale of the features or consider increasing regularisation. Duality gap: 6.964e+15, tolerance: 9.154e+13\n",
      "  model = cd_fast.enet_coordinate_descent(\n",
      "C:\\Users\\Lahiru\\anaconda3\\Lib\\site-packages\\sklearn\\linear_model\\_coordinate_descent.py:678: ConvergenceWarning: Objective did not converge. You might want to increase the number of iterations, check the scale of the features or consider increasing regularisation. Duality gap: 1.609e+16, tolerance: 9.636e+13\n",
      "  model = cd_fast.enet_coordinate_descent(\n",
      "C:\\Users\\Lahiru\\anaconda3\\Lib\\site-packages\\sklearn\\linear_model\\_coordinate_descent.py:678: ConvergenceWarning: Objective did not converge. You might want to increase the number of iterations, check the scale of the features or consider increasing regularisation. Duality gap: 5.104e+16, tolerance: 9.384e+13\n",
      "  model = cd_fast.enet_coordinate_descent(\n",
      "C:\\Users\\Lahiru\\anaconda3\\Lib\\site-packages\\sklearn\\linear_model\\_coordinate_descent.py:678: ConvergenceWarning: Objective did not converge. You might want to increase the number of iterations, check the scale of the features or consider increasing regularisation. Duality gap: 4.568e+16, tolerance: 9.383e+13\n",
      "  model = cd_fast.enet_coordinate_descent(\n",
      "C:\\Users\\Lahiru\\anaconda3\\Lib\\site-packages\\sklearn\\linear_model\\_coordinate_descent.py:678: ConvergenceWarning: Objective did not converge. You might want to increase the number of iterations, check the scale of the features or consider increasing regularisation. Duality gap: 6.445e+16, tolerance: 9.123e+13\n",
      "  model = cd_fast.enet_coordinate_descent(\n",
      "C:\\Users\\Lahiru\\anaconda3\\Lib\\site-packages\\sklearn\\linear_model\\_coordinate_descent.py:678: ConvergenceWarning: Objective did not converge. You might want to increase the number of iterations, check the scale of the features or consider increasing regularisation. Duality gap: 2.726e+16, tolerance: 9.384e+13\n",
      "  model = cd_fast.enet_coordinate_descent(\n",
      "C:\\Users\\Lahiru\\anaconda3\\Lib\\site-packages\\sklearn\\linear_model\\_coordinate_descent.py:678: ConvergenceWarning: Objective did not converge. You might want to increase the number of iterations, check the scale of the features or consider increasing regularisation. Duality gap: 1.057e+16, tolerance: 9.383e+13\n",
      "  model = cd_fast.enet_coordinate_descent(\n",
      "C:\\Users\\Lahiru\\anaconda3\\Lib\\site-packages\\sklearn\\linear_model\\_coordinate_descent.py:678: ConvergenceWarning: Objective did not converge. You might want to increase the number of iterations, check the scale of the features or consider increasing regularisation. Duality gap: 5.086e+15, tolerance: 9.123e+13\n",
      "  model = cd_fast.enet_coordinate_descent(\n",
      "C:\\Users\\Lahiru\\anaconda3\\Lib\\site-packages\\sklearn\\linear_model\\_coordinate_descent.py:678: ConvergenceWarning: Objective did not converge. You might want to increase the number of iterations, check the scale of the features or consider increasing regularisation. Duality gap: 6.964e+15, tolerance: 9.154e+13\n",
      "  model = cd_fast.enet_coordinate_descent(\n",
      "C:\\Users\\Lahiru\\anaconda3\\Lib\\site-packages\\sklearn\\linear_model\\_coordinate_descent.py:678: ConvergenceWarning: Objective did not converge. You might want to increase the number of iterations, check the scale of the features or consider increasing regularisation. Duality gap: 1.609e+16, tolerance: 9.636e+13\n",
      "  model = cd_fast.enet_coordinate_descent(\n",
      "C:\\Users\\Lahiru\\anaconda3\\Lib\\site-packages\\sklearn\\linear_model\\_coordinate_descent.py:678: ConvergenceWarning: Objective did not converge. You might want to increase the number of iterations, check the scale of the features or consider increasing regularisation. Duality gap: 3.121e+16, tolerance: 1.169e+14\n",
      "  model = cd_fast.enet_coordinate_descent(\n",
      "C:\\Users\\Lahiru\\anaconda3\\Lib\\site-packages\\sklearn\\model_selection\\_validation.py:547: FitFailedWarning: \n",
      "10 fits failed out of a total of 20.\n",
      "The score on these train-test partitions for these parameters will be set to nan.\n",
      "If these failures are not expected, you can try to debug them by setting error_score='raise'.\n",
      "\n",
      "Below are more details about the failures:\n",
      "--------------------------------------------------------------------------------\n",
      "10 fits failed with the following error:\n",
      "Traceback (most recent call last):\n",
      "  File \"C:\\Users\\Lahiru\\anaconda3\\Lib\\site-packages\\sklearn\\model_selection\\_validation.py\", line 895, in _fit_and_score\n",
      "    estimator.fit(X_train, y_train, **fit_params)\n",
      "  File \"C:\\Users\\Lahiru\\anaconda3\\Lib\\site-packages\\sklearn\\base.py\", line 1467, in wrapper\n",
      "    estimator._validate_params()\n",
      "  File \"C:\\Users\\Lahiru\\anaconda3\\Lib\\site-packages\\sklearn\\base.py\", line 666, in _validate_params\n",
      "    validate_parameter_constraints(\n",
      "  File \"C:\\Users\\Lahiru\\anaconda3\\Lib\\site-packages\\sklearn\\utils\\_param_validation.py\", line 95, in validate_parameter_constraints\n",
      "    raise InvalidParameterError(\n",
      "sklearn.utils._param_validation.InvalidParameterError: The 'criterion' parameter of DecisionTreeRegressor must be a str among {'poisson', 'squared_error', 'friedman_mse', 'absolute_error'}. Got 'mse' instead.\n",
      "\n",
      "  warnings.warn(some_fits_failed_message, FitFailedWarning)\n",
      "C:\\Users\\Lahiru\\anaconda3\\Lib\\site-packages\\sklearn\\model_selection\\_search.py:1051: UserWarning: One or more of the test scores are non-finite: [       nan        nan 0.59186334 0.58847546]\n",
      "  warnings.warn(\n"
     ]
    },
    {
     "data": {
      "text/html": [
       "<div>\n",
       "<style scoped>\n",
       "    .dataframe tbody tr th:only-of-type {\n",
       "        vertical-align: middle;\n",
       "    }\n",
       "\n",
       "    .dataframe tbody tr th {\n",
       "        vertical-align: top;\n",
       "    }\n",
       "\n",
       "    .dataframe thead th {\n",
       "        text-align: right;\n",
       "    }\n",
       "</style>\n",
       "<table border=\"1\" class=\"dataframe\">\n",
       "  <thead>\n",
       "    <tr style=\"text-align: right;\">\n",
       "      <th></th>\n",
       "      <th>model</th>\n",
       "      <th>best_score</th>\n",
       "      <th>best_params</th>\n",
       "    </tr>\n",
       "  </thead>\n",
       "  <tbody>\n",
       "    <tr>\n",
       "      <th>0</th>\n",
       "      <td>linear_regression</td>\n",
       "      <td>0.620342</td>\n",
       "      <td>{'fit_intercept': False, 'n_jobs': None}</td>\n",
       "    </tr>\n",
       "    <tr>\n",
       "      <th>1</th>\n",
       "      <td>lasso</td>\n",
       "      <td>0.557956</td>\n",
       "      <td>{'alpha': 1, 'selection': 'random'}</td>\n",
       "    </tr>\n",
       "    <tr>\n",
       "      <th>2</th>\n",
       "      <td>decision_tree</td>\n",
       "      <td>0.591863</td>\n",
       "      <td>{'criterion': 'friedman_mse', 'splitter': 'best'}</td>\n",
       "    </tr>\n",
       "  </tbody>\n",
       "</table>\n",
       "</div>"
      ],
      "text/plain": [
       "               model  best_score  \\\n",
       "0  linear_regression    0.620342   \n",
       "1              lasso    0.557956   \n",
       "2      decision_tree    0.591863   \n",
       "\n",
       "                                         best_params  \n",
       "0           {'fit_intercept': False, 'n_jobs': None}  \n",
       "1                {'alpha': 1, 'selection': 'random'}  \n",
       "2  {'criterion': 'friedman_mse', 'splitter': 'best'}  "
      ]
     },
     "execution_count": 295,
     "metadata": {},
     "output_type": "execute_result"
    }
   ],
   "source": [
    "from sklearn.model_selection import GridSearchCV\n",
    "from sklearn.linear_model import LinearRegression\n",
    "\n",
    "def find_best_model_using_gridsearchcv(X, y):\n",
    "    # Define the algorithms and their parameters\n",
    "    algos = {\n",
    "        'linear_regression': {\n",
    "            'model': LinearRegression(),\n",
    "            'params': {\n",
    "                'fit_intercept': [True, False],\n",
    "                'n_jobs': [None, -1]  # Removed 'normalize'\n",
    "            }\n",
    "        },\n",
    "        'lasso': {\n",
    "            'model': Lasso(),\n",
    "            'params': {\n",
    "                'alpha': [1,2],\n",
    "                'selection': ['random', 'cyclic']\n",
    "            }\n",
    "        },\n",
    "        'decision_tree': {\n",
    "            'model': DecisionTreeRegressor(),\n",
    "            'params': {\n",
    "                'criterion' : ['mse','friedman_mse'],\n",
    "                'splitter': ['best','random']\n",
    "            }\n",
    "        }# Add more models if needed (e.g. decision tree, random forest, etc.)\n",
    "    }\n",
    "\n",
    "    # Initialize an empty list to store the results\n",
    "    scores = []\n",
    "\n",
    "    # Loop through each algorithm\n",
    "    for algo_name, config in algos.items():\n",
    "        gs = GridSearchCV(config['model'], config['params'], cv=5, return_train_score=False)\n",
    "        gs.fit(X, y)  # Fit the model using GridSearchCV\n",
    "\n",
    "        # Append the best score and parameters to the results\n",
    "        scores.append({\n",
    "            'model': algo_name,\n",
    "            'best_score': gs.best_score_,\n",
    "            'best_params': gs.best_params_\n",
    "        })\n",
    "\n",
    "    # Return the results as a DataFrame\n",
    "    return pd.DataFrame(scores, columns=['model', 'best_score', 'best_params'])\n",
    "\n",
    "# Call the function to find the best model\n",
    "find_best_model_using_gridsearchcv(X, y)\n"
   ]
  },
  {
   "cell_type": "markdown",
   "id": "21b5e5e0-25aa-419d-911f-25bf63a8ba2a",
   "metadata": {},
   "source": [
    "Test the model for few properties"
   ]
  },
  {
   "cell_type": "code",
   "execution_count": 308,
   "id": "a3593653-8a86-4da7-9cea-82c088cb90a8",
   "metadata": {},
   "outputs": [],
   "source": [
    "def predict_price(city,Area_in_Marla,baths,bedrooms):    \n",
    "    loc_index = np.where(X.columns==city)[0][0]\n",
    "\n",
    "    x = np.zeros(len(X.columns))\n",
    "    x[0] = Area_in_Marla\n",
    "    x[1] = baths\n",
    "    x[2] = bedrooms\n",
    "    if loc_index >= 0:\n",
    "        x[loc_index] = 1\n",
    "\n",
    "    return lr.predict([x])[0]"
   ]
  },
  {
   "cell_type": "code",
   "execution_count": 310,
   "id": "3dd4f12b-957f-4274-bc39-7c5ab8ce79ba",
   "metadata": {},
   "outputs": [
    {
     "name": "stderr",
     "output_type": "stream",
     "text": [
      "C:\\Users\\Lahiru\\anaconda3\\Lib\\site-packages\\sklearn\\base.py:493: UserWarning: X does not have valid feature names, but LinearRegression was fitted with feature names\n",
      "  warnings.warn(\n"
     ]
    },
    {
     "data": {
      "text/plain": [
       "7970446.245191901"
      ]
     },
     "execution_count": 310,
     "metadata": {},
     "output_type": "execute_result"
    }
   ],
   "source": [
    "predict_price('Faisalabad',10, 2, 2)"
   ]
  },
  {
   "cell_type": "code",
   "execution_count": 312,
   "id": "83cd53c0-0816-45e0-9e14-e185e70c1091",
   "metadata": {},
   "outputs": [],
   "source": [
    "import pickle\n",
    "with open('House_price_prediction.pickle','wb') as f:\n",
    "    pickle.dump(lr,f)"
   ]
  },
  {
   "cell_type": "code",
   "execution_count": null,
   "id": "2851de16-3f0a-4382-8b76-2b0d4e7c8961",
   "metadata": {},
   "outputs": [],
   "source": []
  }
 ],
 "metadata": {
  "kernelspec": {
   "display_name": "Python 3 (ipykernel)",
   "language": "python",
   "name": "python3"
  },
  "language_info": {
   "codemirror_mode": {
    "name": "ipython",
    "version": 3
   },
   "file_extension": ".py",
   "mimetype": "text/x-python",
   "name": "python",
   "nbconvert_exporter": "python",
   "pygments_lexer": "ipython3",
   "version": "3.12.4"
  }
 },
 "nbformat": 4,
 "nbformat_minor": 5
}
